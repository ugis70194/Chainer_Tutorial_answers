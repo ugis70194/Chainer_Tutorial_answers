{
  "nbformat": 4,
  "nbformat_minor": 0,
  "metadata": {
    "colab": {
      "name": "Chainer_Tutorial_answers.ipynb",
      "provenance": [],
      "collapsed_sections": [
        "ssF47l3Oqaci",
        "lmQZXtPPt-H5",
        "Zayb6lI7wG-C",
        "lmfh603mzDe_",
        "myfEgQOTXcei",
        "hSEvYFvTadbP"
      ],
      "toc_visible": true,
      "include_colab_link": true
    },
    "kernelspec": {
      "name": "python3",
      "display_name": "Python 3"
    },
    "accelerator": "GPU"
  },
  "cells": [
    {
      "cell_type": "markdown",
      "metadata": {
        "id": "view-in-github",
        "colab_type": "text"
      },
      "source": [
        "<a href=\"https://colab.research.google.com/github/ugis70194/Chainer_Tutorial_answers/blob/master/Chainer_Tutorial_answers.ipynb\" target=\"_parent\"><img src=\"https://colab.research.google.com/assets/colab-badge.svg\" alt=\"Open In Colab\"/></a>"
      ]
    },
    {
      "cell_type": "markdown",
      "metadata": {
        "id": "ssF47l3Oqaci",
        "colab_type": "text"
      },
      "source": [
        "## Problem2.1(Build in function)\n"
      ]
    },
    {
      "cell_type": "code",
      "metadata": {
        "id": "tahN5icWqnL0",
        "colab_type": "code",
        "outputId": "6d62dc50-9e11-4f61-d99d-25c379a7327f",
        "colab": {
          "base_uri": "https://localhost:8080/",
          "height": 34
        }
      },
      "source": [
        "# Find length that list a\n",
        "a = [4, 8, 3, 4 ,1]\n",
        "res = len(a)\n",
        "print(res)"
      ],
      "execution_count": 0,
      "outputs": [
        {
          "output_type": "stream",
          "text": [
            "5\n"
          ],
          "name": "stdout"
        }
      ]
    },
    {
      "cell_type": "code",
      "metadata": {
        "id": "4HBoZN1NrWXs",
        "colab_type": "code",
        "outputId": "8df73eaa-ca04-46e6-89ad-db62f757d004",
        "colab": {
          "base_uri": "https://localhost:8080/",
          "height": 34
        }
      },
      "source": [
        "# Find maximum value in list a\n",
        "a = [4, 8, 3, 4 ,1]\n",
        "res = max(a)\n",
        "print(res)"
      ],
      "execution_count": 0,
      "outputs": [
        {
          "output_type": "stream",
          "text": [
            "8\n"
          ],
          "name": "stdout"
        }
      ]
    },
    {
      "cell_type": "code",
      "metadata": {
        "id": "Wlb-pVgRrxAM",
        "colab_type": "code",
        "outputId": "8c742996-9da3-41de-f640-459cc263d8aa",
        "colab": {
          "base_uri": "https://localhost:8080/",
          "height": 34
        }
      },
      "source": [
        "# Find minimum value in list a\n",
        "a = [4, 8, 3, 4 ,1]\n",
        "res = min(a)\n",
        "print(res)"
      ],
      "execution_count": 0,
      "outputs": [
        {
          "output_type": "stream",
          "text": [
            "1\n"
          ],
          "name": "stdout"
        }
      ]
    },
    {
      "cell_type": "code",
      "metadata": {
        "id": "4GQeGwezr9IU",
        "colab_type": "code",
        "outputId": "8b9ddef9-80ac-4aef-b338-9d032bfe7ab1",
        "colab": {
          "base_uri": "https://localhost:8080/",
          "height": 34
        }
      },
      "source": [
        "# Find sum of value in list a\n",
        "a = [4, 8, 3, 4 ,1]\n",
        "res = sum(a)\n",
        "print(res)"
      ],
      "execution_count": 0,
      "outputs": [
        {
          "output_type": "stream",
          "text": [
            "20\n"
          ],
          "name": "stdout"
        }
      ]
    },
    {
      "cell_type": "code",
      "metadata": {
        "id": "o2WC4fh5swEu",
        "colab_type": "code",
        "outputId": "fb951fa4-64dc-493b-b420-f1c90e9d23d6",
        "colab": {
          "base_uri": "https://localhost:8080/",
          "height": 34
        }
      },
      "source": [
        "# Sort list a\n",
        "a = [4, 8, 3, 4 ,1]\n",
        "res = sorted(a)\n",
        "print(res)"
      ],
      "execution_count": 0,
      "outputs": [
        {
          "output_type": "stream",
          "text": [
            "[1, 3, 4, 4, 8]\n"
          ],
          "name": "stdout"
        }
      ]
    },
    {
      "cell_type": "markdown",
      "metadata": {
        "id": "lmQZXtPPt-H5",
        "colab_type": "text"
      },
      "source": [
        "## Problem2.2(Operation)"
      ]
    },
    {
      "cell_type": "code",
      "metadata": {
        "id": "S_NNZUjguCj2",
        "colab_type": "code",
        "outputId": "22dc89a7-167b-4284-819f-2a1d29f0ae61",
        "colab": {
          "base_uri": "https://localhost:8080/",
          "height": 34
        }
      },
      "source": [
        "# guess (value, type) = (5.0, float)\n",
        "value = 1.2 + 3.8\n",
        "ty = type(value)\n",
        "print(value, ty)"
      ],
      "execution_count": 0,
      "outputs": [
        {
          "output_type": "stream",
          "text": [
            "5.0 <class 'float'>\n"
          ],
          "name": "stdout"
        }
      ]
    },
    {
      "cell_type": "code",
      "metadata": {
        "id": "7vj2tcuvukSu",
        "colab_type": "code",
        "outputId": "8fd9bc47-5b7d-43c8-ee73-0f81202555ef",
        "colab": {
          "base_uri": "https://localhost:8080/",
          "height": 34
        }
      },
      "source": [
        "# guess (value, type) = (0, int)\n",
        "value = 10 // 100\n",
        "ty = type(value)\n",
        "print(value, ty)"
      ],
      "execution_count": 0,
      "outputs": [
        {
          "output_type": "stream",
          "text": [
            "0 <class 'int'>\n"
          ],
          "name": "stdout"
        }
      ]
    },
    {
      "cell_type": "code",
      "metadata": {
        "id": "YJtBR3Hvu8qc",
        "colab_type": "code",
        "outputId": "5b4f2343-0e72-4eb9-d941-49e6dd4dd7d4",
        "colab": {
          "base_uri": "https://localhost:8080/",
          "height": 34
        }
      },
      "source": [
        "# guess (value, type) = (True, bool)\n",
        "value = 1 >= 0\n",
        "ty = type(value)\n",
        "print(value, ty)"
      ],
      "execution_count": 0,
      "outputs": [
        {
          "output_type": "stream",
          "text": [
            "True <class 'bool'>\n"
          ],
          "name": "stdout"
        }
      ]
    },
    {
      "cell_type": "code",
      "metadata": {
        "id": "Dr7GVGKdvGBA",
        "colab_type": "code",
        "outputId": "bcd9ab46-c49f-4382-ac84-f228ffc7d1e3",
        "colab": {
          "base_uri": "https://localhost:8080/",
          "height": 34
        }
      },
      "source": [
        "# guess (value, type) = (True, bool)\n",
        "value = 'Hello World' == 'Hello World'\n",
        "ty = type(value)\n",
        "print(value, ty)"
      ],
      "execution_count": 0,
      "outputs": [
        {
          "output_type": "stream",
          "text": [
            "True <class 'bool'>\n"
          ],
          "name": "stdout"
        }
      ]
    },
    {
      "cell_type": "code",
      "metadata": {
        "id": "LI413yL_vPsK",
        "colab_type": "code",
        "outputId": "5dfee224-9e8d-4125-9f30-c6cb460744f8",
        "colab": {
          "base_uri": "https://localhost:8080/",
          "height": 34
        }
      },
      "source": [
        "# guess (value, type) = (False, bool)\n",
        "value = not 'Chainer' != 'Tutorial'\n",
        "ty = type(value)\n",
        "print(value, ty)"
      ],
      "execution_count": 0,
      "outputs": [
        {
          "output_type": "stream",
          "text": [
            "False <class 'bool'>\n"
          ],
          "name": "stdout"
        }
      ]
    },
    {
      "cell_type": "code",
      "metadata": {
        "id": "BRnaQES1vfGC",
        "colab_type": "code",
        "outputId": "6bbbb3e7-65df-44a0-af60-819e93d0da04",
        "colab": {
          "base_uri": "https://localhost:8080/",
          "height": 34
        }
      },
      "source": [
        "# guess (value, type) = (False, bool)\n",
        "value = all([True, True, False])\n",
        "ty = type(value)\n",
        "print(value, ty)"
      ],
      "execution_count": 0,
      "outputs": [
        {
          "output_type": "stream",
          "text": [
            "False <class 'bool'>\n"
          ],
          "name": "stdout"
        }
      ]
    },
    {
      "cell_type": "code",
      "metadata": {
        "id": "qH_YTamdvmeP",
        "colab_type": "code",
        "outputId": "c5237149-bc9c-4914-a95b-d97807ef27b0",
        "colab": {
          "base_uri": "https://localhost:8080/",
          "height": 34
        }
      },
      "source": [
        "# guess (value, type) = (True, bool)\n",
        "value = any([True, True, False])\n",
        "ty = type(value)\n",
        "print(value, ty)"
      ],
      "execution_count": 0,
      "outputs": [
        {
          "output_type": "stream",
          "text": [
            "True <class 'bool'>\n"
          ],
          "name": "stdout"
        }
      ]
    },
    {
      "cell_type": "code",
      "metadata": {
        "id": "GaKwkRvKvsCy",
        "colab_type": "code",
        "outputId": "eebf1e6e-abc0-434c-d830-2c0a9991e1c6",
        "colab": {
          "base_uri": "https://localhost:8080/",
          "height": 34
        }
      },
      "source": [
        "# guess (value, type) = (3, int)\n",
        "value = abs(-3)\n",
        "ty = type(value)\n",
        "print(value, ty)"
      ],
      "execution_count": 0,
      "outputs": [
        {
          "output_type": "stream",
          "text": [
            "3 <class 'int'>\n"
          ],
          "name": "stdout"
        }
      ]
    },
    {
      "cell_type": "code",
      "metadata": {
        "id": "tlshI3nXvx13",
        "colab_type": "code",
        "outputId": "5f1547cf-e63f-44e8-f433-8de9c352d063",
        "colab": {
          "base_uri": "https://localhost:8080/",
          "height": 201
        }
      },
      "source": [
        "# guess (value, type) = (infitity, err)\n",
        "value = 2 // 0\n",
        "ty = type(value)\n",
        "print(value, ty)"
      ],
      "execution_count": 0,
      "outputs": [
        {
          "output_type": "error",
          "ename": "ZeroDivisionError",
          "evalue": "ignored",
          "traceback": [
            "\u001b[0;31m---------------------------------------------------------------------------\u001b[0m",
            "\u001b[0;31mZeroDivisionError\u001b[0m                         Traceback (most recent call last)",
            "\u001b[0;32m<ipython-input-20-55e5c6611d27>\u001b[0m in \u001b[0;36m<module>\u001b[0;34m()\u001b[0m\n\u001b[0;32m----> 1\u001b[0;31m \u001b[0mvalue\u001b[0m \u001b[0;34m=\u001b[0m \u001b[0;36m2\u001b[0m \u001b[0;34m//\u001b[0m \u001b[0;36m0\u001b[0m\u001b[0;34m\u001b[0m\u001b[0;34m\u001b[0m\u001b[0m\n\u001b[0m\u001b[1;32m      2\u001b[0m \u001b[0mty\u001b[0m \u001b[0;34m=\u001b[0m \u001b[0mtype\u001b[0m\u001b[0;34m(\u001b[0m\u001b[0mvalue\u001b[0m\u001b[0;34m)\u001b[0m\u001b[0;34m\u001b[0m\u001b[0;34m\u001b[0m\u001b[0m\n\u001b[1;32m      3\u001b[0m \u001b[0mprint\u001b[0m\u001b[0;34m(\u001b[0m\u001b[0mvalue\u001b[0m\u001b[0;34m,\u001b[0m \u001b[0mty\u001b[0m\u001b[0;34m)\u001b[0m\u001b[0;34m\u001b[0m\u001b[0;34m\u001b[0m\u001b[0m\n",
            "\u001b[0;31mZeroDivisionError\u001b[0m: integer division or modulo by zero"
          ]
        }
      ]
    },
    {
      "cell_type": "markdown",
      "metadata": {
        "id": "Zayb6lI7wG-C",
        "colab_type": "text"
      },
      "source": [
        "## Problem2.3(Basic operation of list)"
      ]
    },
    {
      "cell_type": "code",
      "metadata": {
        "id": "Zhqd_qMPweug",
        "colab_type": "code",
        "outputId": "5a5cecca-e0dc-4930-c8c8-e1df96d16b2b",
        "colab": {
          "base_uri": "https://localhost:8080/",
          "height": 34
        }
      },
      "source": [
        "# Remove first element of list a\n",
        "a = [4, 8, 3, 4, 1]\n",
        "a.pop(0)\n",
        "print(a)"
      ],
      "execution_count": 0,
      "outputs": [
        {
          "output_type": "stream",
          "text": [
            "[8, 3, 4, 1]\n"
          ],
          "name": "stdout"
        }
      ]
    },
    {
      "cell_type": "code",
      "metadata": {
        "id": "Ny7JaNpcyEi4",
        "colab_type": "code",
        "outputId": "ebd1ced2-5c13-46b8-8c9c-f85c65d37f2d",
        "colab": {
          "base_uri": "https://localhost:8080/",
          "height": 34
        }
      },
      "source": [
        "# Remove last element of list a\n",
        "a = [4, 8, 3, 4, 1]\n",
        "a.pop()\n",
        "print(a)"
      ],
      "execution_count": 0,
      "outputs": [
        {
          "output_type": "stream",
          "text": [
            "[4, 8, 3, 4]\n"
          ],
          "name": "stdout"
        }
      ]
    },
    {
      "cell_type": "code",
      "metadata": {
        "id": "EyLuCAO4yf9f",
        "colab_type": "code",
        "outputId": "c8cf2ed9-6690-41b6-f28b-8704b0cd38b2",
        "colab": {
          "base_uri": "https://localhost:8080/",
          "height": 34
        }
      },
      "source": [
        "# Add 100 end of list a\n",
        "a = [4, 8, 3, 4, 1]\n",
        "a.append(100)\n",
        "print(a)"
      ],
      "execution_count": 0,
      "outputs": [
        {
          "output_type": "stream",
          "text": [
            "[4, 8, 3, 4, 1, 100]\n"
          ],
          "name": "stdout"
        }
      ]
    },
    {
      "cell_type": "markdown",
      "metadata": {
        "id": "lmfh603mzDe_",
        "colab_type": "text"
      },
      "source": [
        "## Problem2.4(List comprehension)"
      ]
    },
    {
      "cell_type": "code",
      "metadata": {
        "id": "Fl5RCTDqzh4O",
        "colab_type": "code",
        "outputId": "c943ace2-4615-473e-8844-682aebf42d92",
        "colab": {
          "base_uri": "https://localhost:8080/",
          "height": 34
        }
      },
      "source": [
        "# convert to 1 if the element is even, convert to 2 if it is odd\n",
        "a = [4, 8, 3, 4, 1]\n",
        "b = [x%2 for x in a]\n",
        "print(b)"
      ],
      "execution_count": 0,
      "outputs": [
        {
          "output_type": "stream",
          "text": [
            "[0, 0, 1, 0, 1]\n"
          ],
          "name": "stdout"
        }
      ]
    },
    {
      "cell_type": "code",
      "metadata": {
        "id": "49M36OcO1CWN",
        "colab_type": "code",
        "outputId": "a32bda05-f7c5-4a06-b6ab-d3cb599012a1",
        "colab": {
          "base_uri": "https://localhost:8080/",
          "height": 34
        }
      },
      "source": [
        "# count odd elements in list a\n",
        "a = [4, 8, 3, 4, 1]\n",
        "res = sum([x%2 for x in a])\n",
        "print(res)"
      ],
      "execution_count": 0,
      "outputs": [
        {
          "output_type": "stream",
          "text": [
            "2\n"
          ],
          "name": "stdout"
        }
      ]
    },
    {
      "cell_type": "code",
      "metadata": {
        "id": "Rk_LO9R_11pd",
        "colab_type": "code",
        "outputId": "960adcf7-5170-415c-c3b6-41781f804126",
        "colab": {
          "base_uri": "https://localhost:8080/",
          "height": 34
        }
      },
      "source": [
        "# keep only elements of list a\n",
        "a = [4, 8, 3, 4, 1]\n",
        "a = [x for x in a if x%2 == 1]\n",
        "print(a)"
      ],
      "execution_count": 0,
      "outputs": [
        {
          "output_type": "stream",
          "text": [
            "[3, 1]\n"
          ],
          "name": "stdout"
        }
      ]
    },
    {
      "cell_type": "markdown",
      "metadata": {
        "id": "myfEgQOTXcei",
        "colab_type": "text"
      },
      "source": [
        "## Problem2.5(Strings)"
      ]
    },
    {
      "cell_type": "code",
      "metadata": {
        "id": "K2ymNB9eXnvZ",
        "colab_type": "code",
        "outputId": "ae0aef91-446c-458e-d1bc-1fe81e420193",
        "colab": {
          "base_uri": "https://localhost:8080/",
          "height": 54
        }
      },
      "source": [
        "# make \"0 1 2 ... 99\" using str.join()\n",
        "res = \" \".join([str(i) for i in range(0, 100)])\n",
        "print(res)"
      ],
      "execution_count": 0,
      "outputs": [
        {
          "output_type": "stream",
          "text": [
            "0 1 2 3 4 5 6 7 8 9 10 11 12 13 14 15 16 17 18 19 20 21 22 23 24 25 26 27 28 29 30 31 32 33 34 35 36 37 38 39 40 41 42 43 44 45 46 47 48 49 50 51 52 53 54 55 56 57 58 59 60 61 62 63 64 65 66 67 68 69 70 71 72 73 74 75 76 77 78 79 80 81 82 83 84 85 86 87 88 89 90 91 92 93 94 95 96 97 98 99\n"
          ],
          "name": "stdout"
        }
      ]
    },
    {
      "cell_type": "code",
      "metadata": {
        "id": "aj1Xvew5ZlcC",
        "colab_type": "code",
        "outputId": "28d83c47-8e6a-41b6-eab9-33b881a14d10",
        "colab": {
          "base_uri": "https://localhost:8080/",
          "height": 34
        }
      },
      "source": [
        "# display up to 9 decimal place using str.format()\n",
        "print(\"{:.9f}\".format(1.0 / 7.0))"
      ],
      "execution_count": 0,
      "outputs": [
        {
          "output_type": "stream",
          "text": [
            "0.142857143\n"
          ],
          "name": "stdout"
        }
      ]
    },
    {
      "cell_type": "markdown",
      "metadata": {
        "id": "hSEvYFvTadbP",
        "colab_type": "text"
      },
      "source": [
        "## Problem2.6(Class)"
      ]
    },
    {
      "cell_type": "code",
      "metadata": {
        "id": "qpFIOPkDaiRY",
        "colab_type": "code",
        "outputId": "b38e4721-f7ef-42c5-975c-9385589ba6b9",
        "colab": {
          "base_uri": "https://localhost:8080/",
          "height": 85
        }
      },
      "source": [
        "# Implement DataManager Class\n",
        "class DataManager:\n",
        "    def __init__(self, x, y, z):\n",
        "        self.x = x;\n",
        "        self.y = y;\n",
        "        self.z = z;\n",
        "\n",
        "    def add_x(self, delta):\n",
        "        self.x += delta\n",
        "    \n",
        "    def add_y(self, delta):\n",
        "        self.y += delta\n",
        "    \n",
        "    def add_z(self, delta):\n",
        "        self.z += delta\n",
        "    \n",
        "    def sum(self):\n",
        "        return self.x + self.y + self.z\n",
        "\n",
        "data_manager = DataManager(2, 3, 5)\n",
        "print(data_manager.sum()) # expected output is 10 \n",
        "\n",
        "data_manager.add_x(4)\n",
        "print(data_manager.sum()) # expected output is 14\n",
        "\n",
        "data_manager.add_y(0)\n",
        "print(data_manager.sum()) # expected output is 14 \n",
        "\n",
        "data_manager.add_z(-9)\n",
        "print(data_manager.sum()) # expected output is 5 \n"
      ],
      "execution_count": 0,
      "outputs": [
        {
          "output_type": "stream",
          "text": [
            "10\n",
            "14\n",
            "14\n",
            "5\n"
          ],
          "name": "stdout"
        }
      ]
    },
    {
      "cell_type": "markdown",
      "metadata": {
        "id": "yitEaq-AdiV8",
        "colab_type": "text"
      },
      "source": [
        "## Problem2.7(Function Calls)"
      ]
    },
    {
      "cell_type": "code",
      "metadata": {
        "id": "JdYjVfhjdvlN",
        "colab_type": "code",
        "outputId": "bea39319-623d-4152-92a8-ee655d19576a",
        "colab": {
          "base_uri": "https://localhost:8080/",
          "height": 85
        }
      },
      "source": [
        "# guess: print(a0) => [6, 7, 8]\n",
        "# guess: print(a1) => [1, 2, 3, 1]\n",
        "\n",
        "def f(a):\n",
        "    #print(id(a))\n",
        "    a = [6, 7, 8]\n",
        "    #print(id(a))\n",
        "\n",
        "def g(a):\n",
        "    a.append(1)\n",
        "    #print(id(a))\n",
        "\n",
        "def h(a):\n",
        "    a += 1\n",
        "    \n",
        "def somefunction():\n",
        "    a0 = [1, 2, 3]\n",
        "    #print(id(a0))\n",
        "    f(a0)\n",
        "    print(a0)\n",
        "    #print(id(a0))\n",
        "\n",
        "    a1 = [1, 2, 3]\n",
        "    #print(id(a1))\n",
        "    g(a1)\n",
        "    #print(id(a1))\n",
        "    print(a1)\n",
        "\n",
        "    a2 = 2;\n",
        "    h(a2)\n",
        "    print(a2)\n",
        "\n",
        "\n",
        "somefunction()"
      ],
      "execution_count": 0,
      "outputs": [
        {
          "output_type": "stream",
          "text": [
            "140394499127048\n",
            "[1, 2, 3]\n",
            "[1, 2, 3, 1]\n",
            "2\n"
          ],
          "name": "stdout"
        }
      ]
    },
    {
      "cell_type": "markdown",
      "metadata": {
        "id": "qHSCYxh0kZGT",
        "colab_type": "text"
      },
      "source": [
        "a0に[1, 2, 3]が代入されたとき,a0は右辺値である[1,2,3]のポインタを参照で持つ.  \n",
        "f(a0)で関数fを呼び出したとき,fの引数aが受け取るのは、a0が参照しているアドレス.  \n",
        "fの内部でaになんらかが代入されても,aが参照するのは代入されたときの右辺値なので,a0が参照しているアドレスのオブジェクトに変更が加えられるわけではない.  \n",
        "逆にg内でリストの末尾に1が追加されたとき,aが参照しているアドレスのオブジェクトに変更が加えられているので,a1が参照しているものも変更されている。\n",
        "\n",
        "int, double, tupleなどは長さ(値の数)が変わらないの変数のメモリ上の位置が連続していない.    \n",
        " -> 代入などの変更がされるたびに新しくオブジェクトをつくって、それのアドレスをもたせればいい.(immutable)  \n",
        "\n",
        "対して,list, dictなどは,要素のメモリ上の配置が連続している.  \n",
        "-> 変更があるたびに新しくオブジェクトをつくるわけにもいかない(そんなことをしていたら計算量がヤバいことになるので),同じ参照をもつ変数に変更を加えたら,もとの参照しているオブジェクトに変更が加えられる.  (mutable)"
      ]
    },
    {
      "cell_type": "markdown",
      "metadata": {
        "id": "_8_UE-3HqJwN",
        "colab_type": "text"
      },
      "source": [
        "## Problem2.8(Control Syntax)"
      ]
    },
    {
      "cell_type": "code",
      "metadata": {
        "id": "o_qQrp-Rqf9s",
        "colab_type": "code",
        "outputId": "edd446c6-7483-4447-acd5-fb0d4a1e1e0d",
        "colab": {
          "base_uri": "https://localhost:8080/",
          "height": 34
        }
      },
      "source": [
        "# Enumerate prime numbers from 1 to 100\n",
        "lower = 0\n",
        "upper = 100\n",
        "is_prime = [True for x in range(lower, upper + 1)]\n",
        "is_prime[0] = is_prime[1] = False\n",
        "\n",
        "i = 2\n",
        "while(i ** 2 <= upper):\n",
        "    if(is_prime[i] == True): \n",
        "        k = 2*i\n",
        "        while(k <= upper):  \n",
        "            is_prime[k] = False\n",
        "            k += i\n",
        "    i += 1\n",
        "prime = [i for i, x in enumerate(is_prime) if x == True]\n",
        "print(prime)"
      ],
      "execution_count": 0,
      "outputs": [
        {
          "output_type": "stream",
          "text": [
            "[2, 3, 5, 7, 11, 13, 17, 19, 23, 29, 31, 37, 41, 43, 47, 53, 59, 61, 67, 71, 73, 79, 83, 89, 97]\n"
          ],
          "name": "stdout"
        }
      ]
    }
  ]
}