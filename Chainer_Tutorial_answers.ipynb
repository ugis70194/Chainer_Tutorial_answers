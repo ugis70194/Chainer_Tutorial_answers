{
  "nbformat": 4,
  "nbformat_minor": 0,
  "metadata": {
    "colab": {
      "name": "Chainer_Tutorial_answers.ipynb",
      "provenance": [],
      "collapsed_sections": [
        "ssF47l3Oqaci",
        "oXmVR2YMK93A",
        "RlvGQ1IOLEFl",
        "YPAOxgEkLGh_",
        "MBHwzk2SLIHS",
        "iy9KhiazLJGG",
        "lmQZXtPPt-H5",
        "0_sEvlHYLjK8",
        "_V2grMKkLsBt",
        "I9C5t1onLwuR",
        "vKU4h8hwLz9L",
        "WAN62cYeL5H_",
        "QvvrI9HFL83F",
        "xWeKWzU_L_qU",
        "UvMgW4QtMDnK",
        "922OLQZEMG5Y",
        "Zayb6lI7wG-C",
        "F-555ktuMlvZ",
        "hZgrJ3TzMsNo",
        "Fjyw-xeqMyNM",
        "6sFNw-xDNBw1",
        "myfEgQOTXcei",
        "cZ7MHjMDNRX2",
        "Nj4ShwOCNVEO",
        "hSEvYFvTadbP",
        "claIzeSVNkSS",
        "yitEaq-AdiV8",
        "xqzDgZxhNwWR",
        "_8_UE-3HqJwN",
        "vrDYlssYOsxD"
      ],
      "toc_visible": true,
      "include_colab_link": true
    },
    "kernelspec": {
      "name": "python3",
      "display_name": "Python 3"
    },
    "accelerator": "GPU"
  },
  "cells": [
    {
      "cell_type": "markdown",
      "metadata": {
        "id": "view-in-github",
        "colab_type": "text"
      },
      "source": [
        "<a href=\"https://colab.research.google.com/github/ugis70194/Chainer_Tutorial_answers/blob/master/Chainer_Tutorial_answers.ipynb\" target=\"_parent\"><img src=\"https://colab.research.google.com/assets/colab-badge.svg\" alt=\"Open In Colab\"/></a>"
      ]
    },
    {
      "cell_type": "markdown",
      "metadata": {
        "id": "eOkxwfKWWjdg",
        "colab_type": "text"
      },
      "source": [
        "# Chainer Tutorial answers\n",
        "https://tutorials.chainer.org/ja/tutorial.html"
      ]
    },
    {
      "cell_type": "markdown",
      "metadata": {
        "id": "In5a4j2ZgqIU",
        "colab_type": "text"
      },
      "source": [
        "## Problem 2(Getting started to Python)"
      ]
    },
    {
      "cell_type": "markdown",
      "metadata": {
        "id": "ssF47l3Oqaci",
        "colab_type": "text"
      },
      "source": [
        "### Problem 2.1(Build in function)\n"
      ]
    },
    {
      "cell_type": "markdown",
      "metadata": {
        "id": "oXmVR2YMK93A",
        "colab_type": "text"
      },
      "source": [
        "#### Problem 2.1.1(Find length that list a)"
      ]
    },
    {
      "cell_type": "code",
      "metadata": {
        "id": "tahN5icWqnL0",
        "colab_type": "code",
        "outputId": "6d62dc50-9e11-4f61-d99d-25c379a7327f",
        "colab": {
          "base_uri": "https://localhost:8080/",
          "height": 34
        }
      },
      "source": [
        "a = [4, 8, 3, 4 ,1]\n",
        "res = len(a)\n",
        "print(res)"
      ],
      "execution_count": 0,
      "outputs": [
        {
          "output_type": "stream",
          "text": [
            "5\n"
          ],
          "name": "stdout"
        }
      ]
    },
    {
      "cell_type": "markdown",
      "metadata": {
        "id": "RlvGQ1IOLEFl",
        "colab_type": "text"
      },
      "source": [
        "#### Problem 2.1.2(Find maximum value in list a)"
      ]
    },
    {
      "cell_type": "code",
      "metadata": {
        "id": "4HBoZN1NrWXs",
        "colab_type": "code",
        "outputId": "8df73eaa-ca04-46e6-89ad-db62f757d004",
        "colab": {
          "base_uri": "https://localhost:8080/",
          "height": 34
        }
      },
      "source": [
        "a = [4, 8, 3, 4 ,1]\n",
        "res = max(a)\n",
        "print(res)"
      ],
      "execution_count": 0,
      "outputs": [
        {
          "output_type": "stream",
          "text": [
            "8\n"
          ],
          "name": "stdout"
        }
      ]
    },
    {
      "cell_type": "markdown",
      "metadata": {
        "id": "YPAOxgEkLGh_",
        "colab_type": "text"
      },
      "source": [
        "#### Problem 2.1.3(Find minimum value in list a)"
      ]
    },
    {
      "cell_type": "code",
      "metadata": {
        "id": "Wlb-pVgRrxAM",
        "colab_type": "code",
        "outputId": "8c742996-9da3-41de-f640-459cc263d8aa",
        "colab": {
          "base_uri": "https://localhost:8080/",
          "height": 34
        }
      },
      "source": [
        "a = [4, 8, 3, 4 ,1]\n",
        "res = min(a)\n",
        "print(res)"
      ],
      "execution_count": 0,
      "outputs": [
        {
          "output_type": "stream",
          "text": [
            "1\n"
          ],
          "name": "stdout"
        }
      ]
    },
    {
      "cell_type": "markdown",
      "metadata": {
        "id": "MBHwzk2SLIHS",
        "colab_type": "text"
      },
      "source": [
        "#### Problem 2.1.4(Find sum of value in list a)"
      ]
    },
    {
      "cell_type": "code",
      "metadata": {
        "id": "4GQeGwezr9IU",
        "colab_type": "code",
        "outputId": "8b9ddef9-80ac-4aef-b338-9d032bfe7ab1",
        "colab": {
          "base_uri": "https://localhost:8080/",
          "height": 34
        }
      },
      "source": [
        "a = [4, 8, 3, 4 ,1]\n",
        "res = sum(a)\n",
        "print(res)"
      ],
      "execution_count": 0,
      "outputs": [
        {
          "output_type": "stream",
          "text": [
            "20\n"
          ],
          "name": "stdout"
        }
      ]
    },
    {
      "cell_type": "markdown",
      "metadata": {
        "id": "iy9KhiazLJGG",
        "colab_type": "text"
      },
      "source": [
        "#### Problem 2.1.5(Sort list a)"
      ]
    },
    {
      "cell_type": "code",
      "metadata": {
        "id": "o2WC4fh5swEu",
        "colab_type": "code",
        "outputId": "fb951fa4-64dc-493b-b420-f1c90e9d23d6",
        "colab": {
          "base_uri": "https://localhost:8080/",
          "height": 34
        }
      },
      "source": [
        "a = [4, 8, 3, 4 ,1]\n",
        "res = sorted(a)\n",
        "print(res)"
      ],
      "execution_count": 0,
      "outputs": [
        {
          "output_type": "stream",
          "text": [
            "[1, 3, 4, 4, 8]\n"
          ],
          "name": "stdout"
        }
      ]
    },
    {
      "cell_type": "markdown",
      "metadata": {
        "id": "lmQZXtPPt-H5",
        "colab_type": "text"
      },
      "source": [
        "### Problem 2.2(Operation)"
      ]
    },
    {
      "cell_type": "markdown",
      "metadata": {
        "id": "0_sEvlHYLjK8",
        "colab_type": "text"
      },
      "source": [
        "#### Problem 2.2.1(1.2 + 3.8)"
      ]
    },
    {
      "cell_type": "code",
      "metadata": {
        "id": "S_NNZUjguCj2",
        "colab_type": "code",
        "outputId": "22dc89a7-167b-4284-819f-2a1d29f0ae61",
        "colab": {
          "base_uri": "https://localhost:8080/",
          "height": 34
        }
      },
      "source": [
        "# guess (value, type) = (5.0, float)\n",
        "value = 1.2 + 3.8\n",
        "ty = type(value)\n",
        "print(value, ty)"
      ],
      "execution_count": 0,
      "outputs": [
        {
          "output_type": "stream",
          "text": [
            "5.0 <class 'float'>\n"
          ],
          "name": "stdout"
        }
      ]
    },
    {
      "cell_type": "markdown",
      "metadata": {
        "id": "_V2grMKkLsBt",
        "colab_type": "text"
      },
      "source": [
        "#### Problem 2.2.2(10 // 100)"
      ]
    },
    {
      "cell_type": "code",
      "metadata": {
        "id": "7vj2tcuvukSu",
        "colab_type": "code",
        "outputId": "8fd9bc47-5b7d-43c8-ee73-0f81202555ef",
        "colab": {
          "base_uri": "https://localhost:8080/",
          "height": 34
        }
      },
      "source": [
        "# guess (value, type) = (0, int)\n",
        "value = 10 // 100\n",
        "ty = type(value)\n",
        "print(value, ty)"
      ],
      "execution_count": 0,
      "outputs": [
        {
          "output_type": "stream",
          "text": [
            "0 <class 'int'>\n"
          ],
          "name": "stdout"
        }
      ]
    },
    {
      "cell_type": "markdown",
      "metadata": {
        "id": "I9C5t1onLwuR",
        "colab_type": "text"
      },
      "source": [
        "#### Problem 2.2.3(1 >= 0)"
      ]
    },
    {
      "cell_type": "code",
      "metadata": {
        "id": "YJtBR3Hvu8qc",
        "colab_type": "code",
        "outputId": "5b4f2343-0e72-4eb9-d941-49e6dd4dd7d4",
        "colab": {
          "base_uri": "https://localhost:8080/",
          "height": 34
        }
      },
      "source": [
        "# guess (value, type) = (True, bool)\n",
        "value = 1 >= 0\n",
        "ty = type(value)\n",
        "print(value, ty)"
      ],
      "execution_count": 0,
      "outputs": [
        {
          "output_type": "stream",
          "text": [
            "True <class 'bool'>\n"
          ],
          "name": "stdout"
        }
      ]
    },
    {
      "cell_type": "markdown",
      "metadata": {
        "id": "vKU4h8hwLz9L",
        "colab_type": "text"
      },
      "source": [
        "#### Problem 2.2.4('Hello World')"
      ]
    },
    {
      "cell_type": "code",
      "metadata": {
        "id": "Dr7GVGKdvGBA",
        "colab_type": "code",
        "outputId": "bcd9ab46-c49f-4382-ac84-f228ffc7d1e3",
        "colab": {
          "base_uri": "https://localhost:8080/",
          "height": 34
        }
      },
      "source": [
        "# guess (value, type) = (True, bool)\n",
        "value = 'Hello World' == 'Hello World'\n",
        "ty = type(value)\n",
        "print(value, ty)"
      ],
      "execution_count": 0,
      "outputs": [
        {
          "output_type": "stream",
          "text": [
            "True <class 'bool'>\n"
          ],
          "name": "stdout"
        }
      ]
    },
    {
      "cell_type": "markdown",
      "metadata": {
        "id": "WAN62cYeL5H_",
        "colab_type": "text"
      },
      "source": [
        "#### Problem 2.2.5('Chainer')"
      ]
    },
    {
      "cell_type": "code",
      "metadata": {
        "id": "LI413yL_vPsK",
        "colab_type": "code",
        "outputId": "5dfee224-9e8d-4125-9f30-c6cb460744f8",
        "colab": {
          "base_uri": "https://localhost:8080/",
          "height": 34
        }
      },
      "source": [
        "# guess (value, type) = (False, bool)\n",
        "value = not 'Chainer' != 'Tutorial'\n",
        "ty = type(value)\n",
        "print(value, ty)"
      ],
      "execution_count": 0,
      "outputs": [
        {
          "output_type": "stream",
          "text": [
            "False <class 'bool'>\n"
          ],
          "name": "stdout"
        }
      ]
    },
    {
      "cell_type": "markdown",
      "metadata": {
        "id": "QvvrI9HFL83F",
        "colab_type": "text"
      },
      "source": [
        "#### Problem 2.2.6(all())"
      ]
    },
    {
      "cell_type": "code",
      "metadata": {
        "id": "BRnaQES1vfGC",
        "colab_type": "code",
        "outputId": "6bbbb3e7-65df-44a0-af60-819e93d0da04",
        "colab": {
          "base_uri": "https://localhost:8080/",
          "height": 34
        }
      },
      "source": [
        "# guess (value, type) = (False, bool)\n",
        "value = all([True, True, False])\n",
        "ty = type(value)\n",
        "print(value, ty)"
      ],
      "execution_count": 0,
      "outputs": [
        {
          "output_type": "stream",
          "text": [
            "False <class 'bool'>\n"
          ],
          "name": "stdout"
        }
      ]
    },
    {
      "cell_type": "markdown",
      "metadata": {
        "id": "xWeKWzU_L_qU",
        "colab_type": "text"
      },
      "source": [
        "#### Problem 2.2.7(any())"
      ]
    },
    {
      "cell_type": "code",
      "metadata": {
        "id": "qH_YTamdvmeP",
        "colab_type": "code",
        "outputId": "c5237149-bc9c-4914-a95b-d97807ef27b0",
        "colab": {
          "base_uri": "https://localhost:8080/",
          "height": 34
        }
      },
      "source": [
        "# guess (value, type) = (True, bool)\n",
        "value = any([True, True, False])\n",
        "ty = type(value)\n",
        "print(value, ty)"
      ],
      "execution_count": 0,
      "outputs": [
        {
          "output_type": "stream",
          "text": [
            "True <class 'bool'>\n"
          ],
          "name": "stdout"
        }
      ]
    },
    {
      "cell_type": "markdown",
      "metadata": {
        "id": "UvMgW4QtMDnK",
        "colab_type": "text"
      },
      "source": [
        "#### Problem 2.2.8(abs())"
      ]
    },
    {
      "cell_type": "code",
      "metadata": {
        "id": "GaKwkRvKvsCy",
        "colab_type": "code",
        "outputId": "eebf1e6e-abc0-434c-d830-2c0a9991e1c6",
        "colab": {
          "base_uri": "https://localhost:8080/",
          "height": 34
        }
      },
      "source": [
        "# guess (value, type) = (3, int)\n",
        "value = abs(-3)\n",
        "ty = type(value)\n",
        "print(value, ty)"
      ],
      "execution_count": 0,
      "outputs": [
        {
          "output_type": "stream",
          "text": [
            "3 <class 'int'>\n"
          ],
          "name": "stdout"
        }
      ]
    },
    {
      "cell_type": "markdown",
      "metadata": {
        "id": "922OLQZEMG5Y",
        "colab_type": "text"
      },
      "source": [
        "#### Problem 2.2.9(2 // 0)"
      ]
    },
    {
      "cell_type": "code",
      "metadata": {
        "id": "tlshI3nXvx13",
        "colab_type": "code",
        "outputId": "5f1547cf-e63f-44e8-f433-8de9c352d063",
        "colab": {
          "base_uri": "https://localhost:8080/",
          "height": 201
        }
      },
      "source": [
        "# guess (value, type) = (infitity, err)\n",
        "value = 2 // 0\n",
        "ty = type(value)\n",
        "print(value, ty)"
      ],
      "execution_count": 0,
      "outputs": [
        {
          "output_type": "error",
          "ename": "ZeroDivisionError",
          "evalue": "ignored",
          "traceback": [
            "\u001b[0;31m---------------------------------------------------------------------------\u001b[0m",
            "\u001b[0;31mZeroDivisionError\u001b[0m                         Traceback (most recent call last)",
            "\u001b[0;32m<ipython-input-20-55e5c6611d27>\u001b[0m in \u001b[0;36m<module>\u001b[0;34m()\u001b[0m\n\u001b[0;32m----> 1\u001b[0;31m \u001b[0mvalue\u001b[0m \u001b[0;34m=\u001b[0m \u001b[0;36m2\u001b[0m \u001b[0;34m//\u001b[0m \u001b[0;36m0\u001b[0m\u001b[0;34m\u001b[0m\u001b[0;34m\u001b[0m\u001b[0m\n\u001b[0m\u001b[1;32m      2\u001b[0m \u001b[0mty\u001b[0m \u001b[0;34m=\u001b[0m \u001b[0mtype\u001b[0m\u001b[0;34m(\u001b[0m\u001b[0mvalue\u001b[0m\u001b[0;34m)\u001b[0m\u001b[0;34m\u001b[0m\u001b[0;34m\u001b[0m\u001b[0m\n\u001b[1;32m      3\u001b[0m \u001b[0mprint\u001b[0m\u001b[0;34m(\u001b[0m\u001b[0mvalue\u001b[0m\u001b[0;34m,\u001b[0m \u001b[0mty\u001b[0m\u001b[0;34m)\u001b[0m\u001b[0;34m\u001b[0m\u001b[0;34m\u001b[0m\u001b[0m\n",
            "\u001b[0;31mZeroDivisionError\u001b[0m: integer division or modulo by zero"
          ]
        }
      ]
    },
    {
      "cell_type": "markdown",
      "metadata": {
        "id": "Zayb6lI7wG-C",
        "colab_type": "text"
      },
      "source": [
        "### Problem 2.3(Basic operation of list)"
      ]
    },
    {
      "cell_type": "markdown",
      "metadata": {
        "id": "F-555ktuMlvZ",
        "colab_type": "text"
      },
      "source": [
        "#### Problem 2.3.1(Remove first element of list a)"
      ]
    },
    {
      "cell_type": "code",
      "metadata": {
        "id": "Zhqd_qMPweug",
        "colab_type": "code",
        "outputId": "5a5cecca-e0dc-4930-c8c8-e1df96d16b2b",
        "colab": {
          "base_uri": "https://localhost:8080/",
          "height": 34
        }
      },
      "source": [
        "a = [4, 8, 3, 4, 1]\n",
        "a.pop(0)\n",
        "print(a)"
      ],
      "execution_count": 0,
      "outputs": [
        {
          "output_type": "stream",
          "text": [
            "[8, 3, 4, 1]\n"
          ],
          "name": "stdout"
        }
      ]
    },
    {
      "cell_type": "markdown",
      "metadata": {
        "id": "hZgrJ3TzMsNo",
        "colab_type": "text"
      },
      "source": [
        "#### Problem 2.3.2(Remove last element of list a)"
      ]
    },
    {
      "cell_type": "code",
      "metadata": {
        "id": "Ny7JaNpcyEi4",
        "colab_type": "code",
        "outputId": "ebd1ced2-5c13-46b8-8c9c-f85c65d37f2d",
        "colab": {
          "base_uri": "https://localhost:8080/",
          "height": 34
        }
      },
      "source": [
        "a = [4, 8, 3, 4, 1]\n",
        "a.pop()\n",
        "print(a)"
      ],
      "execution_count": 0,
      "outputs": [
        {
          "output_type": "stream",
          "text": [
            "[4, 8, 3, 4]\n"
          ],
          "name": "stdout"
        }
      ]
    },
    {
      "cell_type": "markdown",
      "metadata": {
        "id": "Fjyw-xeqMyNM",
        "colab_type": "text"
      },
      "source": [
        "#### Problem 2.3.2(Add 100 end of list a)"
      ]
    },
    {
      "cell_type": "code",
      "metadata": {
        "id": "EyLuCAO4yf9f",
        "colab_type": "code",
        "outputId": "c8cf2ed9-6690-41b6-f28b-8704b0cd38b2",
        "colab": {
          "base_uri": "https://localhost:8080/",
          "height": 34
        }
      },
      "source": [
        "a = [4, 8, 3, 4, 1]\n",
        "a.append(100)\n",
        "print(a)"
      ],
      "execution_count": 0,
      "outputs": [
        {
          "output_type": "stream",
          "text": [
            "[4, 8, 3, 4, 1, 100]\n"
          ],
          "name": "stdout"
        }
      ]
    },
    {
      "cell_type": "markdown",
      "metadata": {
        "id": "lmfh603mzDe_",
        "colab_type": "text"
      },
      "source": [
        "### Problem 2.4(List comprehension)"
      ]
    },
    {
      "cell_type": "markdown",
      "metadata": {
        "id": "VhpNFu1pM-Ci",
        "colab_type": "text"
      },
      "source": [
        "#### Problem 2.4.1(convert to 1 if the element is even, convert to 2 if it is odd)"
      ]
    },
    {
      "cell_type": "code",
      "metadata": {
        "id": "Fl5RCTDqzh4O",
        "colab_type": "code",
        "outputId": "c943ace2-4615-473e-8844-682aebf42d92",
        "colab": {
          "base_uri": "https://localhost:8080/",
          "height": 34
        }
      },
      "source": [
        "a = [4, 8, 3, 4, 1]\n",
        "b = [x%2 for x in a]\n",
        "print(b)"
      ],
      "execution_count": 0,
      "outputs": [
        {
          "output_type": "stream",
          "text": [
            "[0, 0, 1, 0, 1]\n"
          ],
          "name": "stdout"
        }
      ]
    },
    {
      "cell_type": "markdown",
      "metadata": {
        "id": "eIaWeJcPNA1C",
        "colab_type": "text"
      },
      "source": [
        "#### Problem 2.4.2(count odd elements in list a)"
      ]
    },
    {
      "cell_type": "code",
      "metadata": {
        "id": "49M36OcO1CWN",
        "colab_type": "code",
        "outputId": "a32bda05-f7c5-4a06-b6ab-d3cb599012a1",
        "colab": {
          "base_uri": "https://localhost:8080/",
          "height": 34
        }
      },
      "source": [
        "a = [4, 8, 3, 4, 1]\n",
        "res = sum([x%2 for x in a])\n",
        "print(res)"
      ],
      "execution_count": 0,
      "outputs": [
        {
          "output_type": "stream",
          "text": [
            "2\n"
          ],
          "name": "stdout"
        }
      ]
    },
    {
      "cell_type": "markdown",
      "metadata": {
        "id": "6sFNw-xDNBw1",
        "colab_type": "text"
      },
      "source": [
        "#### Problem 2.4.3(keep only elements of list a)"
      ]
    },
    {
      "cell_type": "code",
      "metadata": {
        "id": "Rk_LO9R_11pd",
        "colab_type": "code",
        "outputId": "960adcf7-5170-415c-c3b6-41781f804126",
        "colab": {
          "base_uri": "https://localhost:8080/",
          "height": 34
        }
      },
      "source": [
        "a = [4, 8, 3, 4, 1]\n",
        "a = [x for x in a if x%2 == 1]\n",
        "print(a)"
      ],
      "execution_count": 0,
      "outputs": [
        {
          "output_type": "stream",
          "text": [
            "[3, 1]\n"
          ],
          "name": "stdout"
        }
      ]
    },
    {
      "cell_type": "markdown",
      "metadata": {
        "id": "myfEgQOTXcei",
        "colab_type": "text"
      },
      "source": [
        "### Problem 2.5(Strings)"
      ]
    },
    {
      "cell_type": "markdown",
      "metadata": {
        "id": "cZ7MHjMDNRX2",
        "colab_type": "text"
      },
      "source": [
        "#### Problem2.5.1(make \"0 1 2 ... 99\" using str.join())"
      ]
    },
    {
      "cell_type": "code",
      "metadata": {
        "id": "K2ymNB9eXnvZ",
        "colab_type": "code",
        "outputId": "ae0aef91-446c-458e-d1bc-1fe81e420193",
        "colab": {
          "base_uri": "https://localhost:8080/",
          "height": 54
        }
      },
      "source": [
        "res = \" \".join([str(i) for i in range(0, 100)])\n",
        "print(res)"
      ],
      "execution_count": 0,
      "outputs": [
        {
          "output_type": "stream",
          "text": [
            "0 1 2 3 4 5 6 7 8 9 10 11 12 13 14 15 16 17 18 19 20 21 22 23 24 25 26 27 28 29 30 31 32 33 34 35 36 37 38 39 40 41 42 43 44 45 46 47 48 49 50 51 52 53 54 55 56 57 58 59 60 61 62 63 64 65 66 67 68 69 70 71 72 73 74 75 76 77 78 79 80 81 82 83 84 85 86 87 88 89 90 91 92 93 94 95 96 97 98 99\n"
          ],
          "name": "stdout"
        }
      ]
    },
    {
      "cell_type": "markdown",
      "metadata": {
        "id": "Nj4ShwOCNVEO",
        "colab_type": "text"
      },
      "source": [
        "#### Problem2.5.2(display up to 9 decimal place using str.format())"
      ]
    },
    {
      "cell_type": "code",
      "metadata": {
        "id": "aj1Xvew5ZlcC",
        "colab_type": "code",
        "outputId": "28d83c47-8e6a-41b6-eab9-33b881a14d10",
        "colab": {
          "base_uri": "https://localhost:8080/",
          "height": 34
        }
      },
      "source": [
        "print(\"{:.9f}\".format(1.0 / 7.0))"
      ],
      "execution_count": 0,
      "outputs": [
        {
          "output_type": "stream",
          "text": [
            "0.142857143\n"
          ],
          "name": "stdout"
        }
      ]
    },
    {
      "cell_type": "markdown",
      "metadata": {
        "id": "hSEvYFvTadbP",
        "colab_type": "text"
      },
      "source": [
        "### Problem 2.6(Class)"
      ]
    },
    {
      "cell_type": "markdown",
      "metadata": {
        "id": "claIzeSVNkSS",
        "colab_type": "text"
      },
      "source": [
        "#### Problem2.6.1(Implement DataManager Class)"
      ]
    },
    {
      "cell_type": "code",
      "metadata": {
        "id": "qpFIOPkDaiRY",
        "colab_type": "code",
        "outputId": "b38e4721-f7ef-42c5-975c-9385589ba6b9",
        "colab": {
          "base_uri": "https://localhost:8080/",
          "height": 85
        }
      },
      "source": [
        "class DataManager:\n",
        "    def __init__(self, x, y, z):\n",
        "        self.x = x;\n",
        "        self.y = y;\n",
        "        self.z = z;\n",
        "\n",
        "    def add_x(self, delta):\n",
        "        self.x += delta\n",
        "    \n",
        "    def add_y(self, delta):\n",
        "        self.y += delta\n",
        "    \n",
        "    def add_z(self, delta):\n",
        "        self.z += delta\n",
        "    \n",
        "    def sum(self):\n",
        "        return self.x + self.y + self.z\n",
        "\n",
        "data_manager = DataManager(2, 3, 5)\n",
        "print(data_manager.sum()) # expected output is 10 \n",
        "\n",
        "data_manager.add_x(4)\n",
        "print(data_manager.sum()) # expected output is 14\n",
        "\n",
        "data_manager.add_y(0)\n",
        "print(data_manager.sum()) # expected output is 14 \n",
        "\n",
        "data_manager.add_z(-9)\n",
        "print(data_manager.sum()) # expected output is 5 \n"
      ],
      "execution_count": 0,
      "outputs": [
        {
          "output_type": "stream",
          "text": [
            "10\n",
            "14\n",
            "14\n",
            "5\n"
          ],
          "name": "stdout"
        }
      ]
    },
    {
      "cell_type": "markdown",
      "metadata": {
        "id": "yitEaq-AdiV8",
        "colab_type": "text"
      },
      "source": [
        "### Problem 2.7(Function Calls)"
      ]
    },
    {
      "cell_type": "markdown",
      "metadata": {
        "id": "xqzDgZxhNwWR",
        "colab_type": "text"
      },
      "source": [
        "#### Problem 2.7.1(mutabule or immutable)"
      ]
    },
    {
      "cell_type": "code",
      "metadata": {
        "id": "JdYjVfhjdvlN",
        "colab_type": "code",
        "outputId": "bea39319-623d-4152-92a8-ee655d19576a",
        "colab": {
          "base_uri": "https://localhost:8080/",
          "height": 85
        }
      },
      "source": [
        "# guess: print(a0) => [6, 7, 8]\n",
        "# guess: print(a1) => [1, 2, 3, 1]\n",
        "\n",
        "def f(a):\n",
        "    #print(id(a))\n",
        "    a = [6, 7, 8]\n",
        "    #print(id(a))\n",
        "\n",
        "def g(a):\n",
        "    a.append(1)\n",
        "    #print(id(a))\n",
        "\n",
        "def h(a):\n",
        "    a += 1\n",
        "    \n",
        "def somefunction():\n",
        "    a0 = [1, 2, 3]\n",
        "    #print(id(a0))\n",
        "    f(a0)\n",
        "    print(a0)\n",
        "    #print(id(a0))\n",
        "\n",
        "    a1 = [1, 2, 3]\n",
        "    #print(id(a1))\n",
        "    g(a1)\n",
        "    #print(id(a1))\n",
        "    print(a1)\n",
        "\n",
        "    a2 = 2;\n",
        "    h(a2)\n",
        "    print(a2)\n",
        "\n",
        "\n",
        "somefunction()"
      ],
      "execution_count": 0,
      "outputs": [
        {
          "output_type": "stream",
          "text": [
            "140394499127048\n",
            "[1, 2, 3]\n",
            "[1, 2, 3, 1]\n",
            "2\n"
          ],
          "name": "stdout"
        }
      ]
    },
    {
      "cell_type": "markdown",
      "metadata": {
        "id": "qHSCYxh0kZGT",
        "colab_type": "text"
      },
      "source": [
        "a0に[1, 2, 3]が代入されたとき,a0は右辺値である[1,2,3]のポインタを参照で持つ.  \n",
        "f(a0)で関数fを呼び出したとき,fの引数aが受け取るのは、a0が参照しているアドレス.  \n",
        "fの内部でaになんらかが代入されても,aが参照するのは代入されたときの右辺値なので,a0が参照しているアドレスのオブジェクトに変更が加えられるわけではない.  \n",
        "逆にg内でリストの末尾に1が追加されたとき,aが参照しているアドレスのオブジェクトに変更が加えられているので,a1が参照しているものも変更されている。\n",
        "\n",
        "int, double, tupleなどは長さ(値の数)が変わらないの変数のメモリ上の位置が連続していない.    \n",
        " -> 代入などの変更がされるたびに新しくオブジェクトをつくって、それのアドレスをもたせればいい.(immutable)  \n",
        "\n",
        "対して,list, dictなどは,要素のメモリ上の配置が連続している.  \n",
        "-> 変更があるたびに新しくオブジェクトをつくるわけにもいかない(そんなことをしていたら計算量がヤバいことになるので),同じ参照をもつ変数に変更を加えたら,もとの参照しているオブジェクトに変更が加えられる.  (mutable)"
      ]
    },
    {
      "cell_type": "markdown",
      "metadata": {
        "id": "_8_UE-3HqJwN",
        "colab_type": "text"
      },
      "source": [
        "### Problem 2.8(Control Syntax)"
      ]
    },
    {
      "cell_type": "markdown",
      "metadata": {
        "id": "FZImScleN8Ek",
        "colab_type": "text"
      },
      "source": [
        "#### Problem 2.8.1(Enumerate prime numbers from 1 to 100)"
      ]
    },
    {
      "cell_type": "code",
      "metadata": {
        "id": "o_qQrp-Rqf9s",
        "colab_type": "code",
        "outputId": "edd446c6-7483-4447-acd5-fb0d4a1e1e0d",
        "colab": {
          "base_uri": "https://localhost:8080/",
          "height": 34
        }
      },
      "source": [
        "lower = 0\n",
        "upper = 100\n",
        "is_prime = [True for x in range(lower, upper + 1)]\n",
        "is_prime[0] = is_prime[1] = False\n",
        "\n",
        "i = 2\n",
        "while(i ** 2 <= upper):\n",
        "    if(is_prime[i] == True): \n",
        "        k = 2*i\n",
        "        while(k <= upper):  \n",
        "            is_prime[k] = False\n",
        "            k += i\n",
        "    i += 1\n",
        "prime = [i for i, x in enumerate(is_prime) if x == True]\n",
        "print(prime)"
      ],
      "execution_count": 0,
      "outputs": [
        {
          "output_type": "stream",
          "text": [
            "[2, 3, 5, 7, 11, 13, 17, 19, 23, 29, 31, 37, 41, 43, 47, 53, 59, 61, 67, 71, 73, 79, 83, 89, 97]\n"
          ],
          "name": "stdout"
        }
      ]
    },
    {
      "cell_type": "markdown",
      "metadata": {
        "id": "H1AuQo95gbym",
        "colab_type": "text"
      },
      "source": [
        "## Ploblem 4(Basic of Differential)"
      ]
    },
    {
      "cell_type": "markdown",
      "metadata": {
        "id": "od9yeGOhg7jk",
        "colab_type": "text"
      },
      "source": [
        "### Problem 4.1(Derivative)"
      ]
    },
    {
      "cell_type": "markdown",
      "metadata": {
        "id": "EroeBlOTOB9A",
        "colab_type": "text"
      },
      "source": [
        "#### Problem 4.1.1($f_1(x) = x^3$)"
      ]
    },
    {
      "cell_type": "markdown",
      "metadata": {
        "id": "A6YqY0pZg_NH",
        "colab_type": "text"
      },
      "source": [
        "$$\n",
        "\\begin{eqnarray*}\n",
        "f_1'(x) &=& \\lim_{h \\to 0} \\cfrac{f_1(x + h) - f_1(x)}{h} \\\\\n",
        "        &=& \\lim_{h \\to 0} \\cfrac{(x + h)^3 - x^3}{h} \\\\\n",
        "        &=& \\lim_{h \\to 0} \\cfrac{x^3 + 3x^2h + 3xh^2 + h^3 - x^3}{h} \\\\\n",
        "        &=& \\lim_{h \\to 0} (3x^2 + 3xh + h^2) \\\\\n",
        "        &=& 3x^2\n",
        "\\end{eqnarray*}\n",
        "$$"
      ]
    },
    {
      "cell_type": "markdown",
      "metadata": {
        "id": "pcxX8sxbOYeL",
        "colab_type": "text"
      },
      "source": [
        "#### Problem 4.1.2($f_2(x) = \\sqrt{x}$)"
      ]
    },
    {
      "cell_type": "markdown",
      "metadata": {
        "id": "eEdEW6sBzq60",
        "colab_type": "text"
      },
      "source": [
        "$$\n",
        "\\begin{eqnarray*}\n",
        "f_2'(x) &=& \\lim_{h \\to 0} \\cfrac{f_2(x + h) - f_2(x)}{h} \\\\\n",
        "        &=& \\lim_{h \\to 0} \\cfrac{\\sqrt{x + h} - \\sqrt{x}}{h} \\\\\n",
        "        &=& \\lim_{h \\to 0} \\cfrac{\\sqrt{x + h} - \\sqrt{x}}{h} \\cfrac{\\sqrt{x +h} + \\sqrt{x}}{\\sqrt{x +h} + \\sqrt{x}} \\\\\n",
        "        &=& \\lim_{h \\to 0} \\cfrac{{x + h} - {x}}{h(\\sqrt{x +h} + \\sqrt{x})} \\\\\n",
        "        &=& \\lim_{h \\to 0} \\cfrac{1}{\\sqrt{x +h} + \\sqrt{x}} \\\\\n",
        "        &=& \\cfrac{1}{2 \\sqrt{x}} \\\\\n",
        "\\end{eqnarray*}\n",
        "$$"
      ]
    },
    {
      "cell_type": "markdown",
      "metadata": {
        "id": "lBMRI97spo9g",
        "colab_type": "text"
      },
      "source": [
        "### Problem 4.2(Linearity)\n"
      ]
    },
    {
      "cell_type": "markdown",
      "metadata": {
        "id": "W031wpTFOfee",
        "colab_type": "text"
      },
      "source": [
        "#### Problem 4.2.1($f_1(x) = 2x^2 - 5x + 1$)"
      ]
    },
    {
      "cell_type": "markdown",
      "metadata": {
        "id": "CgpjwVqKytlV",
        "colab_type": "text"
      },
      "source": [
        "$$\n",
        "\\begin{eqnarray*}\n",
        "f_1'(x) &=& (2x^2 - 5x + 1)' \\\\\n",
        "        &=& (2x^2)' + (5x) + (1)' \\\\\n",
        "        &=& 2(x^2)' + 5(x)' + (1)' \\\\\n",
        "        &=& 4x + 5 \\\\\n",
        "\\end{eqnarray*}\n",
        "$$"
      ]
    },
    {
      "cell_type": "markdown",
      "metadata": {
        "id": "ChLW6sBsOrBt",
        "colab_type": "text"
      },
      "source": [
        "#### Problem 4.2.2($f_2(x) = \\displaystyle \\sum_{k = 0}^{123}(k^2 + 1)x^k$)"
      ]
    },
    {
      "cell_type": "markdown",
      "metadata": {
        "id": "L96RL-aozki5",
        "colab_type": "text"
      },
      "source": [
        "$$\n",
        "\\begin{eqnarray*}\n",
        "f_2'(x) &=& (\\sum_{k = 0}^{123}(k^2 + 1)x^k)' \\\\\n",
        "        &=& \\sum_{k = 1}^{123}k(k^2 + 1)x^{k - 1} \\\\\n",
        "\\end{eqnarray*}\n",
        "$$\n",
        "※$k = 0$のときは定数なので微分すると0になる"
      ]
    },
    {
      "cell_type": "markdown",
      "metadata": {
        "id": "ZhaieRh0yA98",
        "colab_type": "text"
      },
      "source": [
        "### Problem 4.3(Product Rule)"
      ]
    },
    {
      "cell_type": "markdown",
      "metadata": {
        "id": "GHAmSFTQO1DY",
        "colab_type": "text"
      },
      "source": [
        "#### Problem 4.3.1($f_1(x) = x \\cdot x$)"
      ]
    },
    {
      "cell_type": "markdown",
      "metadata": {
        "id": "JFyOIvY3ywMB",
        "colab_type": "text"
      },
      "source": [
        "$$\n",
        "\\begin{eqnarray*}\n",
        "f_1'(x) &=& (x \\cdot x)' \\\\\n",
        "        &=& (x)'x + x(x)' \\\\\n",
        "        &=& (1)x + x(1)  \\\\\n",
        "        &=& 2x \\\\\n",
        "\\end{eqnarray*}\n",
        "$$"
      ]
    },
    {
      "cell_type": "markdown",
      "metadata": {
        "id": "FLbAluyyO6pa",
        "colab_type": "text"
      },
      "source": [
        "#### Problem 4.3.2($f_2(x) = x \\cdot x^2$)"
      ]
    },
    {
      "cell_type": "markdown",
      "metadata": {
        "id": "Is0i8j8F0WZb",
        "colab_type": "text"
      },
      "source": [
        "$$\n",
        "\\begin{eqnarray*}\n",
        "f_1'(x) &=& (x \\cdot x^2)' \\\\\n",
        "        &=& (x)'x^2 + x(x^2)' \\\\\n",
        "        &=& (1)x^2 + x(2x) \\\\\n",
        "        &=& 3x^2 \\\\\n",
        "\\end{eqnarray*}\n",
        "$$"
      ]
    },
    {
      "cell_type": "markdown",
      "metadata": {
        "id": "nAkZyqI_O8yj",
        "colab_type": "text"
      },
      "source": [
        "#### Problem 4.3.3($f_3(x) = x \\cdot x^3$)"
      ]
    },
    {
      "cell_type": "markdown",
      "metadata": {
        "id": "wFKb81RM1H9m",
        "colab_type": "text"
      },
      "source": [
        "$$\n",
        "\\begin{eqnarray*}\n",
        "f_3'(x) &=& (x \\cdot x^3)' \\\\\n",
        "        &=& (x)'x^3 + x(x^3)' \\\\\n",
        "        &=& (1)x^3 + x(3x^2) \\\\\n",
        "        &=& 4x^3 \\\\\n",
        "\\end{eqnarray*}\n",
        "$$"
      ]
    },
    {
      "cell_type": "markdown",
      "metadata": {
        "id": "7D_2DLAL1a35",
        "colab_type": "text"
      },
      "source": [
        "### Problem 4.4(Chain Rule)"
      ]
    },
    {
      "cell_type": "markdown",
      "metadata": {
        "id": "ALB32iYnPPvg",
        "colab_type": "text"
      },
      "source": [
        "#### Problem 4.4.1($f_1(x) = (x + 1)^3$)"
      ]
    },
    {
      "cell_type": "markdown",
      "metadata": {
        "id": "dBxRZ98F1fPU",
        "colab_type": "text"
      },
      "source": [
        "$g_1(x) = x + 1$ とおけば, $f_1(g_1(x)) = \\{g_1(x)\\}^3$であるから, \n",
        "$$\n",
        "\\begin{eqnarray*}\n",
        "\\frac{d}{dx}f_1((g_1(x))    &=& \\frac{d}{dg_1(x)}f_1(g_1(x)) \\cdot \\frac{d}{dx}g_1(x) \\\\\n",
        "                            &=& \\frac{d}{dg_1(x)}g_1(x)^3 \\cdot \\frac{d}{dx}g_1(x) \\\\\n",
        "                            &=& 3g_1(x)^2  \\cdot 1 \\\\\n",
        "                            &=& 3(x + 1)^2 \\\\\n",
        "\\end{eqnarray*}\n",
        "$$"
      ]
    },
    {
      "cell_type": "markdown",
      "metadata": {
        "id": "VIuvxH_3PR8Q",
        "colab_type": "text"
      },
      "source": [
        "#### Problem 4.4.2($f_2(x) = (4x)^3$)"
      ]
    },
    {
      "cell_type": "markdown",
      "metadata": {
        "id": "To1ngSlE8RrE",
        "colab_type": "text"
      },
      "source": [
        "$g_2(x) = 4x$ とおけば, $f_2(g_2(x)) = \\{g_2(x)\\}^3$であるから,  \n",
        "$$\n",
        "\\begin{eqnarray*}\n",
        "\\frac{d}{dx}f_2((g_2(x))    &=& \\frac{d}{dg_2(x)}f_2(g_2(x)) \\cdot \\frac{d}{dx}g_2(x) \\\\\n",
        "                            &=& \\frac{d}{dg_2(x)}g_2(x)^3 \\cdot \\frac{d}{dx}g_2(x) \\\\\n",
        "                            &=& 3g_2(x)^2  \\cdot 4 \\\\\n",
        "                            &=& 12(4x)^2 \\\\\n",
        "                            &=& 192x^2 \\\\\n",
        "\\end{eqnarray*}\n",
        "$$"
      ]
    },
    {
      "cell_type": "markdown",
      "metadata": {
        "id": "p5oBgIMvPTLM",
        "colab_type": "text"
      },
      "source": [
        "#### Problem 4.4.3($f_3(x) = exp(2x - 1)$)"
      ]
    },
    {
      "cell_type": "markdown",
      "metadata": {
        "id": "K1vN7n__9Cpj",
        "colab_type": "text"
      },
      "source": [
        "$g_3(x) = 2x - 1$ とおけば, $f_3(g_3(x)) = \\exp(g_3(x))$であるから, \n",
        "$$\n",
        "\\begin{eqnarray*}\n",
        "\\frac{d}{dx}f_3((g_3(x))    &=& \\frac{d}{dg_3(x)}f_3(g_3(x)) \\cdot \\frac{d}{dx}g_3(x) \\\\\n",
        "                            &=& \\frac{d}{dg_3(x)}\\exp(g_3(x)) \\cdot \\frac{d}{dx}g_3(x) \\\\\n",
        "                            &=& \\exp(g_3(x))  \\cdot 2 \\\\\n",
        "                            &=& 2\\exp(2x - 1) \\\\\n",
        "\\end{eqnarray*}\n",
        "$$"
      ]
    },
    {
      "cell_type": "markdown",
      "metadata": {
        "id": "xqqhBReAPUpG",
        "colab_type": "text"
      },
      "source": [
        "#### Problem 4.4.4($f_4(x) = exp(-x^2)$)"
      ]
    },
    {
      "cell_type": "markdown",
      "metadata": {
        "id": "9NoQZdE_-Q4E",
        "colab_type": "text"
      },
      "source": [
        "$g_4(x) = -x^2$ とおけば, $f_4(g_4(x)) = \\exp(g_4(x))$であるから, \n",
        "$$\n",
        "\\begin{eqnarray*}\n",
        "\\frac{d}{dx}f_4((g_4(x))    &=& \\frac{d}{dg_4(x)}f_4(g_4(x)) \\cdot \\frac{d}{dx}g_4(x) \\\\\n",
        "                            &=& \\frac{d}{dg_4(x)}\\exp(g_4(x)) \\cdot \\frac{d}{dx}g_4(x) \\\\\n",
        "                            &=& \\exp(g_4(x))  \\cdot (-2x) \\\\\n",
        "                            &=& -2x\\exp(-x^2) \\\\\n",
        "\\end{eqnarray*}\n",
        "$$"
      ]
    },
    {
      "cell_type": "markdown",
      "metadata": {
        "id": "GqWgJdwrPVqL",
        "colab_type": "text"
      },
      "source": [
        "#### Problem 4.4.5($f_5(x) = 2^x$)"
      ]
    },
    {
      "cell_type": "markdown",
      "metadata": {
        "id": "9M0jbmZd_ZhE",
        "colab_type": "text"
      },
      "source": [
        "$g_5(x) = \\exp(\\log 2^x)$ とおけば,$\\exp(\\log 2^x) = 2^x$であるので,  \n",
        "$f_5(x) = g_5(x)$となる.したがって,\n",
        "$$\n",
        "\\begin{eqnarray*}\n",
        "\\frac{d}{dx}f_5((g_5(x))    &=& \\frac{d}{dg_5(x)}f_5(g_5(x)) \\cdot \\frac{d}{dx}g_5(x) \\\\\n",
        "                            &=& \\frac{d}{dg_5(x)}g_5(x) \\cdot \\frac{d}{dx}g_5(x) \\\\\n",
        "                            &=& 1 \\cdot 2^x \\log x \\\\\n",
        "                            &=& 2^x \\log x \\\\\n",
        "\\end{eqnarray*}\n",
        "$$\n",
        "\n",
        "※補足\n",
        "$$\n",
        "\\begin{eqnarray*}\n",
        "g_5(x) &=& \\exp(\\log 2^x) \\\\\n",
        "       &=& \\exp(x \\log 2) \\\\\n",
        "\\log g_5(x) &=& x \\log 2 \\\\\n",
        "\\frac{d}{dx} \\log g_5(x) &=& \\frac{d}{dx}(x \\log 2) \\\\\n",
        "\\frac{d}{dg_5} \\log g_5(x) \\cdot \\frac{d}{dx}g_5(x) &=& \\frac{d}{dx}(x \\log 2) \\\\\n",
        "\\frac{1}{g_5} \\frac{d}{dx}g_5(x) &=& \\log 2 \\\\\n",
        "\\frac{d}{dx}g_5(x) &=& g_5(x) \\log 2 \\\\\n",
        "\\frac{d}{dx}g_5(x) &=& 2^x \\log 2 \\\\\n",
        "\\end{eqnarray*}\n",
        "$$\n"
      ]
    },
    {
      "cell_type": "markdown",
      "metadata": {
        "id": "e3GzhpkMpF8j",
        "colab_type": "text"
      },
      "source": [
        "### Problem 4.5(Chain Rule 2)\n",
        "$f(x) = x^2 + 1$  \n",
        "$g(x) = f(f(x))$  \n",
        "と定義する."
      ]
    },
    {
      "cell_type": "markdown",
      "metadata": {
        "id": "PdmJRvLdpNYN",
        "colab_type": "text"
      },
      "source": [
        "#### Problem 4.5.1\n",
        "$g(x) = x^4 + 2x^2 + 2$, $g'(x) = 4x^3 + 4x$を示せ."
      ]
    },
    {
      "cell_type": "markdown",
      "metadata": {
        "id": "0B9SyRMBpxWt",
        "colab_type": "text"
      },
      "source": [
        "$$\n",
        "\\begin{eqnarray*}\n",
        "g(x) &=& f(f(x)) \\\\\n",
        "     &=& f(x^2 + 1) \\\\\n",
        "     &=& (x^2 + 1)^2 + 1 \\\\\n",
        "     &=& x^4 + 2x^2 + 2 \\\\\n",
        "\\end{eqnarray*}\n",
        "$$\n",
        "\n",
        "$$\n",
        "\\begin{eqnarray*}\n",
        "g'(x) &=&  (x^4 + 2x^2 + 2)' \\\\\n",
        "      &=& 4x^3 + 4x \\\\\n",
        "\\end{eqnarray*}\n",
        "$$"
      ]
    },
    {
      "cell_type": "markdown",
      "metadata": {
        "id": "nb44LbzjrE-M",
        "colab_type": "text"
      },
      "source": [
        "#### Problem 4.5.2\n",
        "Chain Rule を用いて $g'(x)$ を求めよ. "
      ]
    },
    {
      "cell_type": "markdown",
      "metadata": {
        "id": "jUPC8UQ7rWhc",
        "colab_type": "text"
      },
      "source": [
        "$$\n",
        "\\begin{eqnarray*}\n",
        "\\frac{d}{dx}g(x) &=& \\frac{d}{dx}f(f(x)) \\\\\n",
        "                 &=& \\frac{d}{df(x)}f(f(x)) \\cdot \\frac{d}{dx}f(x) \\\\ \n",
        "                 &=& \\frac{d}{df(x)}(f(x)^2 + 1) \\cdot \\frac{d}{dx}f(x) \\\\\n",
        "                 &=& 2f(x) \\cdot 2x \\\\\n",
        "                 &=& 2(x^2 + 1) \\cdot 2x \\\\\n",
        "                 &=& 4x^3 + 4x \n",
        "\\end{eqnarray*}\n",
        "$$"
      ]
    },
    {
      "cell_type": "markdown",
      "metadata": {
        "id": "7E33ldDxxowP",
        "colab_type": "text"
      },
      "source": [
        "#### Problem 4.5.3\n",
        "$h(x) = f(f(f(x)))$と定義する. $h'(x)$を求めよ."
      ]
    },
    {
      "cell_type": "markdown",
      "metadata": {
        "id": "2YJEgjmYyBEN",
        "colab_type": "text"
      },
      "source": [
        "$$\n",
        "\\begin{eqnarray*}\n",
        "h(x) &=& f(f(f(x))) \\\\\n",
        "     &=& f(g(x)) \\\\ \n",
        "\\frac{d}{dx}h(x) &=& \\frac{d}{dg(x)}f(g(x)) \\cdot \\frac{d}{dx}g(x) \\\\\n",
        "                 &=& \\frac{d}{dg(x)}(g(x)^2 + 1) \\cdot \\frac{d}{dx}g(x) \\\\\n",
        "                 &=& 2g(x) \\cdot (4x^3 + 4x) \\\\\n",
        "                 &=& 2(x^4 + 2x^2 + 2)(4x^3 + 4x) \\\\\n",
        "                 &=& 8(x^7 + 3x^5 + 4x^3 + 2x) \n",
        "\\end{eqnarray*}\n",
        "$$"
      ]
    },
    {
      "cell_type": "markdown",
      "metadata": {
        "id": "1rqz5GPK0WqF",
        "colab_type": "text"
      },
      "source": [
        "### Problem 4.6(exp and log)"
      ]
    },
    {
      "cell_type": "markdown",
      "metadata": {
        "id": "We9E4Sl20p-h",
        "colab_type": "text"
      },
      "source": [
        "#### Problem 4.6.1\n",
        "指数関数の数値微分と解析的な微分の差を確かめよ"
      ]
    },
    {
      "cell_type": "code",
      "metadata": {
        "id": "ExqBG7o-01Pu",
        "colab_type": "code",
        "outputId": "49a20619-b8f3-4ced-e8e6-6da9bca10672",
        "colab": {
          "base_uri": "https://localhost:8080/",
          "height": 425
        }
      },
      "source": [
        "import math \n",
        "\n",
        "def f(x):\n",
        "    return math.exp(x)\n",
        "\n",
        "def df_dx_analy(x):\n",
        "    return math.exp(x)\n",
        "\n",
        "def df_dx_approx(x):\n",
        "    dx = 0.0001\n",
        "    return (f(x + dx) - f(x)) / dx\n",
        "\n",
        "def main():\n",
        "    X = [-3, -2, 0, 1, 2, 3]\n",
        "    for x in X:\n",
        "        print(\"x = \" + str(x))\n",
        "        print(\"approx : \" + str(df_dx_approx(x)))\n",
        "        print(\"analytics : \" + str(df_dx_analy(x)))\n",
        "        print(\"square error : \" + str((df_dx_analy(x) - df_dx_approx(x)) ** 2 ))\n",
        "\n",
        "main()"
      ],
      "execution_count": 0,
      "outputs": [
        {
          "output_type": "stream",
          "text": [
            "x = -3\n",
            "approx : 0.04978955780436667\n",
            "analytics : 0.049787068367863944\n",
            "square error : 6.197294101095731e-12\n",
            "x = -2\n",
            "approx : 0.13534205022619483\n",
            "analytics : 0.1353352832366127\n",
            "square error : 4.579214800465386e-11\n",
            "x = 0\n",
            "approx : 1.000050001667141\n",
            "analytics : 1.0\n",
            "square error : 2.5001667168768906e-09\n",
            "x = 1\n",
            "approx : 2.718417747082924\n",
            "analytics : 2.718281828459045\n",
            "square error : 1.8473872317150506e-08\n",
            "x = 2\n",
            "approx : 7.389425564063856\n",
            "analytics : 7.38905609893065\n",
            "square error : 1.3650448465477436e-07\n",
            "x = 3\n",
            "approx : 20.08654123354603\n",
            "analytics : 20.085536923187668\n",
            "square error : 1.008639295911678e-06\n"
          ],
          "name": "stdout"
        }
      ]
    },
    {
      "cell_type": "markdown",
      "metadata": {
        "id": "QQ8XtHUu6nyM",
        "colab_type": "text"
      },
      "source": [
        "#### Problem 4.6.2\n",
        "対数関数の数値微分と解析的な微分の差を確かめよ"
      ]
    },
    {
      "cell_type": "code",
      "metadata": {
        "id": "Btw6vt3w2PNX",
        "colab_type": "code",
        "outputId": "7ab27b2f-d47b-43c5-90b6-5fed2903783e",
        "colab": {
          "base_uri": "https://localhost:8080/",
          "height": 425
        }
      },
      "source": [
        "import math \n",
        "\n",
        "def f(x):\n",
        "    return math.log(x)\n",
        "\n",
        "def df_dx_analy(x):\n",
        "    return 1 / x\n",
        "\n",
        "def df_dx_approx(x):\n",
        "    dx = 0.0001\n",
        "    return (f(x + dx) - f(x)) / dx\n",
        "\n",
        "def main():\n",
        "    X = [0.25, 0.5, 1, 3, 4, 8]\n",
        "    for x in X:\n",
        "        print(\"x = \" + str(x))\n",
        "        print(\"approx : \" + str(df_dx_approx(x)))\n",
        "        print(\"analytics : \" + str(df_dx_analy(x)))\n",
        "        print(\"square error : \" + str((df_dx_analy(x) - df_dx_approx(x)) ** 2 ))\n",
        "\n",
        "main()"
      ],
      "execution_count": 0,
      "outputs": [
        {
          "output_type": "stream",
          "text": [
            "x = 0.25\n",
            "approx : 3.9992002132693827\n",
            "analytics : 4.0\n",
            "square error : 6.39658814471531e-07\n",
            "x = 0.5\n",
            "approx : 1.999800026661891\n",
            "analytics : 2.0\n",
            "square error : 3.998933595448071e-08\n",
            "x = 1\n",
            "approx : 0.9999500033329731\n",
            "analytics : 1.0\n",
            "square error : 2.4996667137961874e-09\n",
            "x = 3\n",
            "approx : 0.3333277779016264\n",
            "analytics : 0.3333333333333333\n",
            "square error : 3.0862821450456464e-11\n",
            "x = 4\n",
            "approx : 0.2499968750524495\n",
            "analytics : 0.25\n",
            "square error : 9.765297193397953e-12\n",
            "x = 8\n",
            "approx : 0.12499921875797071\n",
            "analytics : 0.125\n",
            "square error : 6.103391083303319e-13\n"
          ],
          "name": "stdout"
        }
      ]
    },
    {
      "cell_type": "markdown",
      "metadata": {
        "id": "YaoshjUw6xE_",
        "colab_type": "text"
      },
      "source": [
        "### Problem 4.7(Differentiation of activation function)"
      ]
    },
    {
      "cell_type": "markdown",
      "metadata": {
        "id": "tF7P5_5B7ZDr",
        "colab_type": "text"
      },
      "source": [
        "#### Problem 4.7.1(ReLU)"
      ]
    },
    {
      "cell_type": "markdown",
      "metadata": {
        "id": "Q4gavmQO7gDO",
        "colab_type": "text"
      },
      "source": [
        "$x+\\Delta x$ と $x$ が 0を挟むようにしてあるとき,$ReLU'(x)$は発散する. それ以外で,  \n",
        "$x \\ge 0$ のとき,\n",
        "$$\n",
        "\\begin{eqnarray*}\n",
        "ReLU'(x) &=& \\lim_{\\Delta x \\to 0}\\cfrac{ReLU(x + \\Delta x) - ReLU(x)}{\\Delta x} \\\\\n",
        "         &=& \\lim_{\\Delta x \\to 0} \\cfrac{x + \\Delta x - x}{\\Delta x} \\\\\n",
        "         &=& 1 \\\\\n",
        "\\end{eqnarray*}\n",
        "$$\n",
        "$x \\lt 0$ のとき,  \n",
        "$$\n",
        "\\begin{eqnarray*}\n",
        "ReLU'(x) &=& \\lim_{\\Delta x \\to 0}\\cfrac{0 - 0}{\\Delta x} \\\\\n",
        "         &=& 0 \\\\\n",
        "\\end{eqnarray*}\n",
        "$$\n",
        "まとめると,\n",
        "$$\n",
        "ReLU(x) = \n",
        "\\begin{cases}\n",
        "1 & (x \\ge 0) \\\\\n",
        "0 & (x \\lt 0)\n",
        "\\end{cases}\n",
        "$$\n"
      ]
    },
    {
      "cell_type": "markdown",
      "metadata": {
        "id": "7DJtzWXXB9qZ",
        "colab_type": "text"
      },
      "source": [
        "#### Problem 4.7.2(tanh(x))"
      ]
    },
    {
      "cell_type": "markdown",
      "metadata": {
        "id": "LQAywOsXCFhw",
        "colab_type": "text"
      },
      "source": [
        "$$\n",
        "\\begin{eqnarray*}\n",
        "tanh(x) &=& \\cfrac{e^x - e^{-x}}{e^x + e^{-x}} \\\\\n",
        "tanh'(x) &=& \\cfrac{(e^x - e^{-x})'(e^x + e^{-x}) - (e^x - e^{-x})(e^x + e^{-x})'}{(e^x + e^{-x}) ^ 2} \\\\\n",
        "tanh'(x) &=& \\cfrac{(e^x + e^{-x})^2 - (e^x - e^{-x})^2}{(e^x + e^{-x}) ^ 2} \\\\\n",
        "tanh'(x) &=& \\cfrac{4}{(e^x + e^{-x}) ^ 2} \\\\\n",
        "\\end{eqnarray*}\n",
        "$$"
      ]
    },
    {
      "cell_type": "markdown",
      "metadata": {
        "id": "emkyVR9DDJo0",
        "colab_type": "text"
      },
      "source": [
        "#### Problem 4.7.3(Sigmoid(x))"
      ]
    },
    {
      "cell_type": "markdown",
      "metadata": {
        "id": "fuc1EEjmDP4V",
        "colab_type": "text"
      },
      "source": [
        "$$\n",
        "\\begin{eqnarray*}\n",
        "Sigmoid(x) &=& \\cfrac{1}{1 + e^{-x}} \\\\\n",
        "Sigmoid'(x) &=& \\cfrac{(1)'(1 + e^{-x}) - 1(1 + e^{-x})'}{(1 + e^{-x}) ^ 2} \\\\\n",
        "Sigmoid'(x) &=& \\cfrac{e^{-x}}{(1 + e^{-x}) ^ 2} \\\\\n",
        "\\end{eqnarray*}\n",
        "$$"
      ]
    },
    {
      "cell_type": "markdown",
      "metadata": {
        "id": "oFNpYcepDz6O",
        "colab_type": "text"
      },
      "source": [
        "#### Problem 4.7.4(Softplus(x))"
      ]
    },
    {
      "cell_type": "markdown",
      "metadata": {
        "id": "nAol3f-5D4GU",
        "colab_type": "text"
      },
      "source": [
        "$$\n",
        "\\begin{eqnarray*}\n",
        "Softplus(x) &=& \\log(1 + e^x) \\\\\n",
        "\\end{eqnarray*}\n",
        "$$\n",
        "g(x) = 1 + e^x とおけば,\n",
        "$$\n",
        "\\begin{eqnarray*}\n",
        "Softplus(g(x)) &=& \\log(g(x)) \\\\\n",
        "Softplus'(x) &=& \\cfrac{d}{dg(x)}Softplus(g(x)) \\cdot \\cfrac{d}{dx}g(x) \\\\\n",
        "             &=& \\cfrac{d}{dg(x)}log(g(x)) \\cdot \\cfrac{d}{dx}g(x) \\\\\n",
        "             &=& \\cfrac{1}{g(x)} \\cdot e^x \\\\\n",
        "             &=& \\cfrac{e^x}{1 + e^x} \\\\\n",
        "\\end{eqnarray*}\n",
        "$$"
      ]
    },
    {
      "cell_type": "markdown",
      "metadata": {
        "id": "O_ooiu0Egfxb",
        "colab_type": "text"
      },
      "source": [
        "### Problem 4.8(Partial differential)"
      ]
    },
    {
      "cell_type": "markdown",
      "metadata": {
        "id": "8rymo8NkgrWK",
        "colab_type": "text"
      },
      "source": [
        "#### Problem 4.8.1 $f(x, y) = |x| + |y|$"
      ]
    },
    {
      "cell_type": "markdown",
      "metadata": {
        "id": "nxqCnGTMhJcR",
        "colab_type": "text"
      },
      "source": [
        "$$\n",
        "\\begin{eqnarray*}\n",
        "    \\cfrac{\\partial}{\\partial x}f(x, y) &=& \\lim_{\\Delta x \\to 0} \\cfrac{(|x + \\Delta x| + |y|) - (|x| + |y|)}{ \\Delta x } \\\\\n",
        "                                        &=& \\lim_{\\Delta x \\to 0} \\cfrac{|x + \\Delta x| - |x|}{ \\Delta x } \\cdot \\cfrac{|x + \\Delta x| + |x|}{|x + \\Delta x| + |x|} \\\\\n",
        "                                        &=& \\lim_{\\Delta x \\to 0} \\cfrac{x^2 + 2x \\Delta x + \\Delta x^2 - x^2 }{ \\Delta x(|x + \\Delta x| + |x|)} \\\\ \n",
        "                                        &=& \\lim_{\\Delta x \\to 0} \\cfrac{2x + \\Delta x}{ |x + \\Delta x| + |x|} \\\\ \n",
        "                                        &=& \\cfrac{x}{|x|} \\\\ \n",
        "\\end{eqnarray*}\n",
        "$$\n",
        "以上より,\n",
        "$$\n",
        "\\cfrac{\\partial}{\\partial x}f(x, y) =\n",
        "\\begin{cases}\n",
        "1 \\space (x > 0) \\\\\n",
        "-1 \\space (x < 0) \\\\\n",
        "\\end{cases} \\\\\n",
        "$$\n",
        "ただし、$x=0$のとき微分不可能(極限が定まらないため)  \n",
        "$\\cfrac{\\partial}{\\partial y}f(x, y)$も同様\n"
      ]
    },
    {
      "cell_type": "markdown",
      "metadata": {
        "id": "SNyyOq5JhE7o",
        "colab_type": "text"
      },
      "source": [
        "#### Problem 4.8.2 $f(x, y) = |x + y|$"
      ]
    },
    {
      "cell_type": "markdown",
      "metadata": {
        "id": "nfaX7lEhyZW4",
        "colab_type": "text"
      },
      "source": [
        "$$\n",
        "\\begin{eqnarray*}\n",
        "    \\cfrac{\\partial}{\\partial x}f(x, y) &=& \\lim_{\\Delta x \\to 0} \\cfrac{|x + \\Delta x + y| - |x + y|}{\\Delta x } \\\\\n",
        "                                        &=& \\lim_{\\Delta x \\to 0} \\cfrac{|x + \\Delta x + y| - |x + y|}{\\Delta x } \\cdot \\cfrac{|x + \\Delta x + y| + |x + y|}{|x + \\Delta x + y| + |x + y|}\\\\\n",
        "                                        &=& \\lim_{\\Delta x \\to 0} \\cfrac{(x^2 + y^2 + \\Delta x^2 + 2xy + 2x\\Delta x + 2y\\Delta x)-(x^2 + 2xy + y^2)}{\\Delta x(|x + \\Delta x + y| + |x + y|)} \\\\ \n",
        "                                        &=& \\lim_{\\Delta x \\to 0} \\cfrac{\\Delta x + 2x + 2y}{|x + \\Delta x + y| + |x + y|} \\\\ \n",
        "                                        &=& \\cfrac{(x + y)}{|x + y|} \\\\ \n",
        "\\end{eqnarray*}\n",
        "$$\n",
        "以上より,\n",
        "$$\n",
        "\\cfrac{\\partial}{\\partial x}f(x, y) =\n",
        "\\begin{cases}\n",
        "1 \\space (x + y > 0) \\\\\n",
        "-1 \\space (x + y < 0) \\\\\n",
        "\\end{cases} \\\\\n",
        "$$\n",
        "ただし、$x+y=0$のとき微分不可能(極限が定まらないため)  \n",
        "$\\cfrac{\\partial}{\\partial y}f(x, y)$も同様"
      ]
    },
    {
      "cell_type": "markdown",
      "metadata": {
        "id": "yqM9dixM_b0S",
        "colab_type": "text"
      },
      "source": [
        "## Problem 5(Basic of liner algebra)"
      ]
    },
    {
      "cell_type": "markdown",
      "metadata": {
        "id": "9xKy37rN_x3-",
        "colab_type": "text"
      },
      "source": [
        "### Problem 5.1(Vector and Matrix operations)"
      ]
    },
    {
      "cell_type": "markdown",
      "metadata": {
        "id": "XyMvDinyAQen",
        "colab_type": "text"
      },
      "source": [
        "#### Problem 5.1.1(vector sum)"
      ]
    },
    {
      "cell_type": "code",
      "metadata": {
        "id": "FWadNkiBAnL5",
        "colab_type": "code",
        "outputId": "9b05c9a4-0c8f-4ffc-a405-44e55dad6b07",
        "colab": {
          "base_uri": "https://localhost:8080/",
          "height": 34
        }
      },
      "source": [
        "def vector_sum(x, y):\n",
        "    return [x[i] + y[i] for i in range(0, len(x))]\n",
        "\n",
        "x = [1, 2, 3]\n",
        "y = [8, 1, 2]\n",
        "answer = vector_sum(x, y)\n",
        "print(answer)"
      ],
      "execution_count": 0,
      "outputs": [
        {
          "output_type": "stream",
          "text": [
            "[9, 3, 5]\n"
          ],
          "name": "stdout"
        }
      ]
    },
    {
      "cell_type": "markdown",
      "metadata": {
        "id": "A1IteyUTGi4G",
        "colab_type": "text"
      },
      "source": [
        "#### Problem 5.1.2(matrix sum)"
      ]
    },
    {
      "cell_type": "code",
      "metadata": {
        "id": "laRl2ht8Gnte",
        "colab_type": "code",
        "outputId": "73783bc8-38be-4d75-93fe-ba936221f380",
        "colab": {
          "base_uri": "https://localhost:8080/",
          "height": 34
        }
      },
      "source": [
        "def matrix_sum(X, Y):\n",
        "    return [vector_sum(X[i],Y[i]) for i in range(0, len(X))]\n",
        "\n",
        "X = [[1, 2, 3],\n",
        "     [4, 5, 6]]\n",
        "Y = [[8, 1, 2],\n",
        "     [-1, 0, -2]]\n",
        "answer = matrix_sum(X, Y)\n",
        "print(answer)"
      ],
      "execution_count": 0,
      "outputs": [
        {
          "output_type": "stream",
          "text": [
            "[[9, 3, 5], [3, 5, 4]]\n"
          ],
          "name": "stdout"
        }
      ]
    },
    {
      "cell_type": "markdown",
      "metadata": {
        "id": "BRcHbbXpImKA",
        "colab_type": "text"
      },
      "source": [
        "#### Problem5.1.3(matrix vector product)"
      ]
    },
    {
      "cell_type": "code",
      "metadata": {
        "id": "fFJ3jyi7Iwgm",
        "colab_type": "code",
        "outputId": "b3932095-7eba-47e4-cd8c-c7c8833529a8",
        "colab": {
          "base_uri": "https://localhost:8080/",
          "height": 34
        }
      },
      "source": [
        "def vector_inner_product(x, y):\n",
        "    return sum([x[i] * y[i] for i in range(0, len(x))])\n",
        "\n",
        "def matrix_vector_product(X, y):\n",
        "    return [vector_inner_product(x, y) for x in X]\n",
        "\n",
        "X = [[1, 2, 3],\n",
        "     [4, 5, 6]]\n",
        "y = [8, 1, 2]\n",
        "answer = matrix_vector_product(X, y)\n",
        "print(answer)"
      ],
      "execution_count": 0,
      "outputs": [
        {
          "output_type": "stream",
          "text": [
            "[16, 49]\n"
          ],
          "name": "stdout"
        }
      ]
    },
    {
      "cell_type": "markdown",
      "metadata": {
        "id": "oHwdDUC1L6Zm",
        "colab_type": "text"
      },
      "source": [
        "#### Problem 5.1.4(matrix product)"
      ]
    },
    {
      "cell_type": "code",
      "metadata": {
        "id": "MrrC3dhXMAjq",
        "colab_type": "code",
        "outputId": "2ce72fcd-128f-46ba-ba24-937be882a4e6",
        "colab": {
          "base_uri": "https://localhost:8080/",
          "height": 34
        }
      },
      "source": [
        "def matrix_transpose(X):\n",
        "    return [[x[i] for x in X] for i in range(0, len(X[0]))]\n",
        "\n",
        "def matrix_product(X, Y):\n",
        "    Y = matrix_transpose(Y)\n",
        "    return [[vector_inner_product(x, y) for y in Y] for x in X]\n",
        "\n",
        "X = [[1, 2, 3],\n",
        "     [4, 5, 6]]\n",
        "Y = [[8, 1],\n",
        "     [-1, 0],\n",
        "     [0, 1]]\n",
        "\n",
        "answer = matrix_product(X, Y)\n",
        "print(answer)  "
      ],
      "execution_count": 0,
      "outputs": [
        {
          "output_type": "stream",
          "text": [
            "[[6, 4], [27, 10]]\n"
          ],
          "name": "stdout"
        }
      ]
    },
    {
      "cell_type": "markdown",
      "metadata": {
        "id": "vrDYlssYOsxD",
        "colab_type": "text"
      },
      "source": [
        "#### Problem 5.1.5(matrix transpose)"
      ]
    },
    {
      "cell_type": "code",
      "metadata": {
        "id": "SKlZ_DsOOzsP",
        "colab_type": "code",
        "outputId": "45e673ae-93fd-4a53-cba5-f0d54210c7d5",
        "colab": {
          "base_uri": "https://localhost:8080/",
          "height": 34
        }
      },
      "source": [
        "def matrix_transpose(X):\n",
        "    return [[x[i] for x in X] for i in range(0, len(X[0]))]\n",
        "\n",
        "X = [[1, 2, 3],\n",
        "     [4, 5, 6]]\n",
        "\n",
        "answer = matrix_transpose(X)\n",
        "print(answer)"
      ],
      "execution_count": 0,
      "outputs": [
        {
          "output_type": "stream",
          "text": [
            "[[1, 4], [2, 5], [3, 6]]\n"
          ],
          "name": "stdout"
        }
      ]
    },
    {
      "cell_type": "markdown",
      "metadata": {
        "id": "JKBFlhupVeQl",
        "colab_type": "text"
      },
      "source": [
        "### Problem 5.2(vector differentiation)\n",
        "$$\n",
        "\\begin{eqnarray*}\n",
        "\\bf{x} &=& \\begin{bmatrix}\n",
        "                x_1 \\\\\n",
        "                \\vdots \\\\\n",
        "                x_n \\\\\n",
        "            \\end{bmatrix}\n",
        ",\n",
        "\\bf{A} &=& \\begin{bmatrix}\n",
        "            a_{11} & \\ldots & a_{1n} \\\\\n",
        "            \\vdots &        & \\vdots  \\\\\n",
        "            a_{n1} & \\ldots & a_{nn} \\\\\n",
        "           \\end{bmatrix}\n",
        "\\end{eqnarray*}\n",
        "$$\n",
        "と定義する."
      ]
    },
    {
      "cell_type": "markdown",
      "metadata": {
        "id": "k7wFdG7PVvPV",
        "colab_type": "text"
      },
      "source": [
        "#### Problem 5.2.1(quadratic form)\n",
        "$$\n",
        "\\begin{eqnarray*}\n",
        "\\bf{x}^{\\rm{T}} \\bf{A} \\bf{x} &=& \\sum_{i = 1}^{n} \\sum_{j = 1}^{n}{a_{ij} x_i x_j}\n",
        "\\end{eqnarray*}\n",
        "$$\n",
        "を示せ."
      ]
    },
    {
      "cell_type": "markdown",
      "metadata": {
        "id": "M3Ikk75jdInP",
        "colab_type": "text"
      },
      "source": [
        "$$\n",
        "\\begin{eqnarray*}\n",
        "\\bf{x}^{\\rm{T}} \\bf{A} \\bf{x} &=& \n",
        "\\begin{bmatrix}\n",
        "    x_1 \\\\\n",
        "    \\vdots \\\\\n",
        "    x_n \\\\\n",
        "\\end{bmatrix}^{\\rm{T}}\n",
        "\\begin{bmatrix}\n",
        "    a_{11} & \\ldots & a_{1n} \\\\\n",
        "    \\vdots &        & \\vdots  \\\\\n",
        "    a_{n1} & \\ldots & a_{nn} \\\\\n",
        "\\end{bmatrix}\n",
        "\\begin{bmatrix}\n",
        "    x_1 \\\\\n",
        "    \\vdots \\\\\n",
        "    x_n \\\\\n",
        "\\end{bmatrix} \\\\\n",
        "&=&\n",
        "\\begin{bmatrix}\n",
        "    a_{11}x_1 + \\ldots + a_{n1}x_n \\\\\n",
        "    \\vdots \\\\\n",
        "    a_{1n}x_1 + \\ldots + a_{nn}x_n \\\\\n",
        "\\end{bmatrix}^{\\rm{T}} \n",
        "\\begin{bmatrix}\n",
        "    x_1 \\\\\n",
        "    \\vdots \\\\\n",
        "    x_n \\\\\n",
        "\\end{bmatrix} \\\\\n",
        "&=&\n",
        "\\begin{bmatrix}\n",
        "    \\sum_{i=1}^{n} a_{i1} x_i \\\\\n",
        "    \\vdots \\\\\n",
        "    \\sum_{i=1}^{n} a_{in} x_i \\\\\n",
        "\\end{bmatrix}^{\\rm{T}} \n",
        "\\begin{bmatrix}\n",
        "    x_1 \\\\\n",
        "    \\vdots \\\\\n",
        "    x_n \\\\\n",
        "\\end{bmatrix} \\\\\n",
        "&=& \\sum_{i=1}^{n}{a_{i1} x_i x_1} + \\ldots + \\sum_{i=1}^{n}{a_{in} x_i x_n} \\\\\n",
        "&=& \\sum_{i=1}^{n} \\sum_{j=1}^{n}{a_{ij} x_i x_j}\n",
        "\\end{eqnarray*}\n",
        "$$\n",
        "また,\n",
        "$$\n",
        "\\begin{eqnarray*}\n",
        "\\bf{x}^{\\rm{T}} \\bf{A} \\bf{x} \n",
        "&=& \\sum_{i=1}^{n} \\sum_{j=1}^{n}{a_{ij} x_i x_j} \\\\\n",
        "&=& \\sum_{i=1}^{n}{a_{i1} x_i} x_1+ \\sum_{i=1}^{n} \\sum_{j=2}^{n}{a_{ij} x_i x_j} \\\\\n",
        "&=& \\sum_{i=1}^{n}{a_{i1} x_i}{x_1} + \\sum_{j=2}^{n}{a_{1j}x_j}{x_1} + \\sum_{i=2}^{n} \\sum_{j=2}^{n}{a_{ij} x_i x_j} \\\\\n",
        "&=& a_{11}x_{1}^2 + \\sum_{i=2}^{n}{a_{i1} x_i}{x_1} + \\sum_{j=2}^{n}{a_{1j}x_j}{x_1} + \\sum_{i=2}^{n} \\sum_{j=2}^{n}{a_{ij} x_i x_j} \\\\\n",
        "&=& a_{11}x_{1}^2 + (\\sum_{i=2}^{n}{a_{i1} x_i} + \\sum_{j=2}^{n}{a_{1j}x_j}){x_1} + \\sum_{i=2}^{n} \\sum_{j=2}^{n}{a_{ij} x_i x_j} \\\\\n",
        "&=& a_{11}x_{1}^2 + (\\sum_{i=2}^{n}(a_{i1} + a_{1i})x_i){x_1} + \\sum_{i=2}^{n} \\sum_{j=2}^{n}{a_{ij} x_i x_j} \\\\\n",
        "\\end{eqnarray*}\n",
        "$$\n"
      ]
    },
    {
      "cell_type": "markdown",
      "metadata": {
        "id": "Wf3GIkvas0Zk",
        "colab_type": "text"
      },
      "source": [
        "#### Problem 5.2.2(vector partial differential)\n",
        "$\\cfrac{\\partial}{\\partial {x_1}}(\\bf{x}^{\\rm{T}}A \\bf{x})$ を計算し,$\\sum_{i=1}^{n} (a_{1i} x_i + a_{i1} x_i)$を示せ."
      ]
    },
    {
      "cell_type": "markdown",
      "metadata": {
        "id": "Y-ofNUTquQ0O",
        "colab_type": "text"
      },
      "source": [
        "$$\n",
        "\\begin{eqnarray*}\n",
        "\\bf{x}^{\\rm{T}} \\bf{A} \\bf{x} \n",
        "&=& a_{11}x_{1}^2 + (\\sum_{i=2}^{n}(a_{i1} + a_{1i})x_i){x_1} + \\sum_{i=2}^{n} \\sum_{j=2}^{n}{a_{ij} x_i x_j} \\\\\n",
        "\\end{eqnarray*}\n",
        "$$\n",
        "より,\n",
        "$$\n",
        "\\begin{eqnarray*}\n",
        "\\cfrac{\\partial}{\\partial {x_1}}(\\bf{x}^{\\rm{T}}A \\bf{x})\n",
        "&=& 2a_{11}x_{1} + \\sum_{i=2}^{n}(a_{i1} + a_{1i})x_i \\\\\n",
        "&=& \\sum_{i=1}^{n}(a_{i1} + a_{1i})x_i \\\\\n",
        "\\end{eqnarray*}\n",
        "$$"
      ]
    },
    {
      "cell_type": "markdown",
      "metadata": {
        "id": "fPTqMf5su9YQ",
        "colab_type": "text"
      },
      "source": [
        "#### Problem 5.2.3(vector differentiation)\n",
        "一般に、$k=1 \\ldots n$ に対して $\\cfrac{\\partial}{\\partial x_k}(\\bf{x}^{\\rm T} \\bf{A} \\bf{x})$ $=\\sum_{i=1}^{n}(a_{ki}x_i+a_{ik}x_i)$ となることを示せ。  \n",
        "これによって $\\cfrac{\\partial}{\\partial \\bf{x}}(\\bf{x}^{\\rm T} \\bf{A} \\bf{x})$ $=\\bf{x}^{\\rm T}(\\bf{A}+\\bf{A}^{\\rm T})$ が成り立つことを確かめよ。"
      ]
    },
    {
      "cell_type": "markdown",
      "metadata": {
        "id": "sP9-FvHxwCNe",
        "colab_type": "text"
      },
      "source": [
        "一般に、$k=1 \\ldots n$ に対して,  \n",
        "$$\n",
        "\\begin{eqnarray*}\n",
        "\\bf{x}^{\\rm{T}} \\bf{A} \\bf{x} \n",
        "&=& a_{kk}x_{k}^2 + \\{(\\sum_{i=1}^{k-1}(a_{ik} + a_{ki})x_i) + (\\sum_{i=k+1}^{n}(a_{ik} + a_{ki})x_i)\\}{x_k} \\\\\n",
        "&+& \\sum_{i=1}^{k-1} \\sum_{j=1}^{k-1}{a_{ij} x_i x_j} + \\sum_{i=1}^{k-1} \\sum_{j=k+1}^{n}{a_{ij} x_i x_j} + \\sum_{i=k+1}^{n} \\sum_{j=1}^{k-1}{a_{ij} x_i x_j} + \\sum_{i=k+1}^{n} \\sum_{j=k=1}^{n}{a_{ij} x_i x_j}\n",
        "\\end{eqnarray*}\n",
        "$$\n",
        "が成り立つ.  \n",
        "したがって,$k=1 \\ldots n$ に対して,\n",
        "$$\n",
        "\\begin{eqnarray*}\n",
        "\\cfrac{\\partial}{\\partial {x_k}}(\\bf{x}^{\\rm{T}}A \\bf{x})\n",
        "&=& 2a_{kk}x_{k} + \\sum_{i=1}^{k-1}(a_{ik} + a_{ki})x_i + \\sum_{i=k+1}^{n}(a_{ik} + a_{ki})x_i\\\\\n",
        "&=& \\sum_{i=1}^{n}(a_{ik} + a_{ki})x_i \\\\\n",
        "\\end{eqnarray*}\n",
        "$$\n",
        "以上より,\n",
        "$$\n",
        "\\begin{eqnarray*}\n",
        "\\cfrac{\\partial}{\\partial \\bf{x}}(\\bf{x}^{\\rm{T}}{\\bf A} \\bf{x}) &=& \\left( \\cfrac{\\partial}{\\partial x_1}({\\bf x}^{\\rm{T}}A {\\bf x}), \\ldots ,\\cfrac{\\partial}{\\partial x_n}(\\bf{x}^{\\rm{T}}A \\bf{x}) \\right)^{\\rm T} \\\\\n",
        "\\end{eqnarray*}\n",
        "$$\n",
        "であり,\n",
        "$$\n",
        "\\begin{eqnarray*}\n",
        "\\bf{x}^{\\rm T}(\\bf{A}+\\bf{A}^{\\rm T}) &=& \n",
        "\\begin{bmatrix}\n",
        "    x_1 \\\\\n",
        "    \\vdots \\\\\n",
        "    x_n \\\\\n",
        "\\end{bmatrix}^{\\rm{T}}\n",
        "\\left(\n",
        "\\begin{bmatrix}\n",
        "    a_{11} & \\ldots & a_{1n} \\\\\n",
        "    \\vdots &        & \\vdots  \\\\\n",
        "    a_{n1} & \\ldots & a_{nn} \\\\\n",
        "\\end{bmatrix} +\n",
        "\\begin{bmatrix}\n",
        "    a_{11} & \\ldots & a_{n1} \\\\\n",
        "    \\vdots &        & \\vdots  \\\\\n",
        "    a_{1n} & \\ldots & a_{nn} \\\\\n",
        "\\end{bmatrix} \n",
        "\\right) \\\\\n",
        "&=& \\left( \\sum_{i=1}^{n}{(a_{i1} + a_{1i})x_1}, \\ldots ,\\sum_{i=1}^{n}{(a_{in} + a_{ni})x_i} \\right)^{\\rm T} \\\\\n",
        "&=& \\left( \\cfrac{\\partial}{\\partial x_1}({\\bf x}^{\\rm{T}}{\\bf A} {\\bf x}), \\ldots ,\\cfrac{\\partial}{\\partial x_n}(\\bf{x}^{\\rm{T}}A \\bf{x}) \\right)^{\\rm T} \\\\\n",
        "\\end{eqnarray*}\n",
        "$$\n",
        "であるから,  \n",
        "$$\n",
        "\\begin{eqnarray}\n",
        "\\cfrac{\\partial}{\\partial \\bf{x}}(\\bf{x}^{\\rm{T}}A \\bf{x}) = \\bf{x}^{\\rm T}(\\bf{A}+\\bf{A}^{\\rm T})\n",
        "\\end{eqnarray}\n",
        "$$\n"
      ]
    },
    {
      "cell_type": "markdown",
      "metadata": {
        "id": "7EnD1tdM9AK1",
        "colab_type": "text"
      },
      "source": [
        "### Problem 5.3(Linearity of vector differentiation)"
      ]
    },
    {
      "cell_type": "markdown",
      "metadata": {
        "id": "UmvMY4-p9OLU",
        "colab_type": "text"
      },
      "source": [
        "#### Problem 5.3.1(sum)\n",
        "$\\cfrac{\\partial}{\\partial {\\bf x}}\\{ f({\\bf x}) + g({\\bf x}) \\} = \\cfrac{\\partial}{\\partial {\\bf x}}f({\\bf{x}}) + \\cfrac{\\partial}{\\partial \\bf{x}}g({\\bf{x}})$\n",
        "を示せ."
      ]
    },
    {
      "cell_type": "markdown",
      "metadata": {
        "id": "hShsqqpcOmQ9",
        "colab_type": "text"
      },
      "source": [
        "$$\n",
        "\\begin{eqnarray}\n",
        "\\cfrac{\\partial}{\\partial x_k}\\{ f({\\bf x}) + g({\\bf x}) \\} \n",
        "&=& \\lim_{h \\to 0} \\cfrac{f(x_1, \\ldots, x_k + h, \\ldots x_n) + g(x_1, \\ldots, x_k + h, \\ldots x_n) - \\{f({\\bf x}) + g({\\bf x})\\} }{h} \\\\\n",
        "&=& \\lim_{h \\to 0} \\left( \\cfrac{f(x_1, \\ldots, x_k + h, \\ldots x_n) - f({\\bf{x}})}{h} +  \\cfrac{g(x_1, \\ldots, x_k + h, \\ldots x_n) - g({\\bf{x}})}{h} \\right) \\\\\n",
        "&=& \\cfrac{\\partial}{\\partial x_k}f({\\bf{x}}) + \\cfrac{\\partial}{\\partial x_k}g({\\bf{x}}) \\\\\n",
        "\\end{eqnarray}\n",
        "$$\n",
        "より,\n",
        "$$\n",
        "\\begin{eqnarray}\n",
        "\\cfrac{\\partial}{\\partial {\\bf x}}\\{ f({\\bf x}) + g({\\bf x}) \\} \n",
        "&=& \\left( \\cfrac{\\partial}{\\partial x_1}\\{ f({\\bf x}) + g({\\bf x}) \\}, \\ldots ,\\cfrac{\\partial}{\\partial x_n}\\{ f({\\bf x}) + g({\\bf x}) \\} \\right)^{\\rm T} \\\\\n",
        "&=& \\left( \\cfrac{\\partial}{\\partial x_k}f({\\bf{x}}) + \\cfrac{\\partial}{\\partial x_k}g({\\bf{x}}), \n",
        "\\ldots ,\n",
        "\\cfrac{\\partial}{\\partial x_k}f({\\bf{x}}) + \\cfrac{\\partial}{\\partial x_k}g({\\bf{x}}) \\right)^{\\rm T} \\\\\n",
        "&=& \\cfrac{\\partial}{\\partial {\\bf x}}f({\\bf{x}}) + \\cfrac{\\partial}{\\partial \\bf{x}}g({\\bf{x}}) \\\\\n",
        "\\end{eqnarray}\n",
        "$$"
      ]
    },
    {
      "cell_type": "markdown",
      "metadata": {
        "id": "IqSrF2uK9rD5",
        "colab_type": "text"
      },
      "source": [
        "#### Problem 5.3.2(Scalar times)\n",
        "$\\cfrac{\\partial}{\\partial {\\bf x}}\\{ cf({\\bf x}) \\} = c \\cdot \\cfrac{\\partial}{\\partial {\\bf x}}f({\\bf{x}})$を示せ.($c$は任意の実数)"
      ]
    },
    {
      "cell_type": "markdown",
      "metadata": {
        "id": "VeU7qLYyTHkg",
        "colab_type": "text"
      },
      "source": [
        "$$\n",
        "\\begin{eqnarray}\n",
        "\\cfrac{\\partial}{\\partial x_k}\\{ cf({\\bf x}) \\} \n",
        "&=& \\lim_{h \\to 0} \\cfrac{cf(x_1, \\ldots, x_k + h, \\ldots x_n) - \\{cf({\\bf x}) \\} }{h} \\\\\n",
        "&=& \\lim_{h \\to 0} c \\cdot \\cfrac{f(x_1, \\ldots, x_k + h, \\ldots x_n) - \\{f({\\bf x}) \\} }{h} \\\\\n",
        "&=& c \\cdot \\cfrac{\\partial}{\\partial x_k}f({\\bf{x}}) \\\\\n",
        "\\end{eqnarray}\n",
        "$$\n",
        "より,\n",
        "$$\n",
        "\\begin{eqnarray}\n",
        "\\cfrac{\\partial}{\\partial {\\bf x}}\\{ cf({\\bf x}) \\} \n",
        "&=& \\left( \\cfrac{\\partial}{\\partial x_1}\\{cf({\\bf x})\\}, \\ldots ,\\cfrac{\\partial}{\\partial x_n}\\{cf({\\bf x})\\} \\right)^{\\rm T} \\\\\n",
        "&=& \\left( c \\cdot \\cfrac{\\partial}{\\partial x_1}f({\\bf x}), \\ldots ,c \\cdot \\cfrac{\\partial}{\\partial x_n}f({\\bf x}) \\right)^{\\rm T} \\\\\n",
        "&=& c \\cdot \\cfrac{\\partial}{\\partial {\\bf x}}f({\\bf{x}}) \\\\\n",
        "\\end{eqnarray}\n",
        "$$\n"
      ]
    },
    {
      "cell_type": "markdown",
      "metadata": {
        "id": "v9KmpAJ3996K",
        "colab_type": "text"
      },
      "source": [
        "#### Problem 5.3.3(chain rule)"
      ]
    },
    {
      "cell_type": "markdown",
      "metadata": {
        "id": "GlQArMuNVt6c",
        "colab_type": "text"
      },
      "source": [
        "$$\n",
        "\\begin{eqnarray}\n",
        "\\cfrac{\\partial {\\bf y}}{\\partial {\\bf x}} \n",
        "&=& \\left(\n",
        "\\begin{array}{ccc}\n",
        "    \\cfrac{\\partial {y_1}}{\\partial {x_1}}  & \\ldots & \\cfrac{\\partial {y_n}}{\\partial {x_1}} \\\\\n",
        "    \\vdots & \\ddots & \\vdots \\\\\n",
        "    \\cfrac{\\partial {y_1}}{\\partial {x_n}} & \\ldots & \\cfrac{\\partial {y_n}}{\\partial {x_n}}\n",
        "\\end{array}\n",
        "  \\right) \\\\\n",
        "&=& \\left(\n",
        "\\begin{array}{ccc}\n",
        "    \\cfrac{\\partial}{\\partial {x_1}}(cx_1 + b_1)  & \\ldots & \\cfrac{\\partial}{\\partial {x_1}}(cx_n + b_n) \\\\\n",
        "    \\vdots & \\ddots & \\vdots \\\\\n",
        "    \\cfrac{\\partial}{\\partial {x_n}}(cx_1 + b_1) & \\ldots & \\cfrac{\\partial}{\\partial {x_n}}(cx_n + b_n) \\\\\n",
        "\\end{array}\n",
        "  \\right) \\\\\n",
        "  &=& \\left(\n",
        "\\begin{array}{ccc}\n",
        "    c & 0 & \\ldots & 0 \\\\\n",
        "    0 & c & \\ldots & 0 \\\\\n",
        "    \\vdots & \\vdots & \\ddots &\\vdots & \\\\\n",
        "    0 & 0 & \\ldots & c \\\\\n",
        "\\end{array} \n",
        "  \\right) \\\\\n",
        "&=& c{\\bf I} \\\\\n",
        "\\end{eqnarray}\n",
        "$$\n",
        "より,\n",
        "$$\n",
        "\\begin{eqnarray}\n",
        "\\cfrac{\\partial}{\\partial {\\bf x}}\\{f(c{\\bf x} + {\\bf b}) \\} \n",
        "&=& \\cfrac{\\partial}{\\partial {\\bf y}}f({\\bf y}) \\cdot \\cfrac{\\partial {\\bf y}}{\\partial {\\bf x}} \\\\ \n",
        "&=& \\cfrac{\\partial}{\\partial {\\bf y}}f({\\bf y}) \\cdot c{\\bf I} \\\\ \n",
        "&=& c \\cfrac{\\partial}{\\partial {\\bf y}}f({\\bf y}) \\\\\n",
        "\\end{eqnarray}\n",
        "$$\n"
      ]
    }
  ]
}